{
 "cells": [
  {
   "cell_type": "code",
   "execution_count": null,
   "metadata": {},
   "outputs": [],
   "source": [
    "import numpy as np\n",
    "import pandas as pd\n",
    "import os\n",
    "import pickle\n",
    "import gc\n",
    "\n",
    "# 分布確認に使う\n",
    "#import pandas_profiling as pdp\n",
    "# 可視化\n",
    "import matplotlib.pyplot as plt\n",
    "# 前処理、特徴量作成 - sklearnを使う\n",
    "from sklearn.preprocessing import StandardScaler, MinMaxScaler, LabelEncoder\n",
    "# モデリング・精度と評価指標\n",
    "from sklearn.model_selection import train_test_split, KFold, StratifiedKFold\n",
    "from sklearn.metrics import accuracy_score, roc_auc_score, confusion_matrix\n",
    "#LGBM\n",
    "import lightgbm as lgb\n",
    "\n",
    "# NOTE matplotでの日本語文字化けを解消\n",
    "#pip install japanize-matplotlib\n",
    "import japanize_matplotlib\n",
    "%matplotlib inline\n",
    "\n",
    "# NOTE matplotでの日本語文字化けを解消\n",
    "#pip install japanize-matplotlib\n",
    "import japanize_matplotlib\n",
    "%matplotlib inline"
   ]
  },
  {
   "cell_type": "code",
   "execution_count": null,
   "metadata": {},
   "outputs": [],
   "source": [
    "import pandas as pd\n",
    "pd.options.display\n",
    "\n",
    "train = pd.read_csv(\"train.csv\", index_col=0) # 学習用データ\n",
    "test = pd.read_csv(\"test.csv\", index_col=0) # 学習用データ   # 評価用データ\n",
    "sample_submit = pd.read_csv(\"sample_submission.csv\", index_col=0, header=None) # 応募用サンプルファイル"
   ]
  },
  {
   "cell_type": "code",
   "execution_count": null,
   "metadata": {},
   "outputs": [],
   "source": [
    "train.head()\n",
    "\n",
    "print(\"データ形状：\")\n",
    "print(train.shape)\n",
    "\n",
    "print(\"データ数：\")\n",
    "print(len(train))\n",
    "\n",
    "print(\"データのコラム数\")\n",
    "print(len(train.columns))\n",
    "\n",
    "print(\"データ型一覧\")\n",
    "train.info()"
   ]
  },
  {
   "cell_type": "code",
   "execution_count": null,
   "metadata": {},
   "outputs": [],
   "source": [
    "train.head(20)"
   ]
  },
  {
   "cell_type": "markdown",
   "metadata": {},
   "source": [
    "コラム数は全部で20個。ダミー化できるものはダミー化、そうでないものは分布数の多いもののみを取り出すなどの工夫をして\n",
    "ドメイン知識を使った特徴量エンジニアリングをする。"
   ]
  },
  {
   "cell_type": "code",
   "execution_count": null,
   "metadata": {},
   "outputs": [],
   "source": [
    "print(\"データ型一覧\")\n",
    "train.info()"
   ]
  },
  {
   "cell_type": "markdown",
   "metadata": {},
   "source": [
    "tree_dbh, health, borocode, boro_ct, cb_num, st_senate, st_assem, cncldistで\n",
    "ベースラインを作成する。その他本来ならint型にするべき値もベースラインに用いる\n",
    "\n",
    "tree_dbh - 木の円周。量的変数\n",
    "health - 木の健康状態、目的変数\n",
    "borocode - ニューヨークの行政区分。質的変数\n",
    "boro_ct - ニューヨーク市の行政区分（ボロー）の名称。質的変数\n",
    "cb_num - コミュニティボード番号。質的変数\n",
    "st_senate - 州上院地区番号。質的変数\n",
    "st_assem - 州議会地区番号。質的変数\n",
    "cncldist - 市議会の地区番号。質的変数\n",
    "\n",
    "→使えるのはtree_dbhだけ。\n",
    "次はstr・object型からint・float型に変換するべきものを探す\n",
    "\n",
    "steward → 木の管理者数 \n",
    "stewardはダミー化する。\n",
    "\n",
    "tree_dbh,stewardの他にもまずは簡単にダミー化できる変数5つを使ってベースを作成する"
   ]
  },
  {
   "cell_type": "code",
   "execution_count": null,
   "metadata": {},
   "outputs": [],
   "source": [
    "print(\"データのコラム数\")\n",
    "print(train.columns)"
   ]
  },
  {
   "cell_type": "code",
   "execution_count": null,
   "metadata": {},
   "outputs": [],
   "source": [
    "print(\"データのコラム数\")\n",
    "print(test.columns)"
   ]
  },
  {
   "cell_type": "code",
   "execution_count": null,
   "metadata": {},
   "outputs": [],
   "source": [
    "#目的変数の分布を確認\n",
    "counts = train[\"health\"].value_counts()\n",
    "counts"
   ]
  },
  {
   "cell_type": "code",
   "execution_count": null,
   "metadata": {},
   "outputs": [],
   "source": [
    "counts = counts.sort_index()"
   ]
  },
  {
   "cell_type": "code",
   "execution_count": null,
   "metadata": {},
   "outputs": [],
   "source": [
    "counts.plot.bar(\"health\")"
   ]
  },
  {
   "cell_type": "markdown",
   "metadata": {},
   "source": [
    "目的変数は1(good)であることが殆どだが、0や2(normal, bad)が約20%。"
   ]
  },
  {
   "cell_type": "code",
   "execution_count": null,
   "metadata": {},
   "outputs": [],
   "source": [
    "#目的変数の分布を確認\n",
    "counts = train[\"curb_loc\"].value_counts()\n",
    "print(counts)\n",
    "counts = counts.sort_index()\n",
    "counts.plot.bar(\"curb_loc\")"
   ]
  },
  {
   "cell_type": "code",
   "execution_count": null,
   "metadata": {},
   "outputs": [],
   "source": [
    "#目的変数の分布を確認\n",
    "counts = train[\"steward\"].value_counts()\n",
    "print(counts)\n",
    "counts = counts.sort_index()\n",
    "counts.plot.bar(\"steward\")"
   ]
  },
  {
   "cell_type": "code",
   "execution_count": null,
   "metadata": {},
   "outputs": [],
   "source": [
    "#目的変数の分布を確認\n",
    "counts = train[\"guards\"].value_counts()\n",
    "print(counts)\n",
    "\n",
    "counts = counts.sort_index()\n",
    "counts.plot.bar(\"guards\")"
   ]
  },
  {
   "cell_type": "code",
   "execution_count": null,
   "metadata": {},
   "outputs": [],
   "source": [
    "#目的変数の分布を確認\n",
    "counts = train[\"sidewalk\"].value_counts()\n",
    "print(counts)\n",
    "\n",
    "counts = counts.sort_index()\n",
    "counts.plot.bar(\"sidewalk\")"
   ]
  },
  {
   "cell_type": "code",
   "execution_count": null,
   "metadata": {},
   "outputs": [],
   "source": [
    "#目的変数の分布を確認\n",
    "counts = train[\"user_type\"].value_counts()\n",
    "print(counts)\n",
    "\n",
    "counts = counts.sort_index()\n",
    "counts.plot.bar(\"user_type\")"
   ]
  },
  {
   "cell_type": "code",
   "execution_count": null,
   "metadata": {},
   "outputs": [],
   "source": [
    "train[\"tree_dbh\"].hist(bins=20)"
   ]
  },
  {
   "cell_type": "code",
   "execution_count": null,
   "metadata": {},
   "outputs": [],
   "source": [
    "counts"
   ]
  },
  {
   "cell_type": "markdown",
   "metadata": {},
   "source": [
    "→ ポアソン分布に近い。指数化すればより有効な値になるかも？"
   ]
  },
  {
   "cell_type": "code",
   "execution_count": null,
   "metadata": {},
   "outputs": [],
   "source": [
    "#目的変数の分布を確認\n",
    "counts = train[\"problems\"].value_counts()\n",
    "print(counts)\n",
    "\n",
    "counts = counts.sort_index()\n",
    "counts.plot.bar(\"problems\")"
   ]
  },
  {
   "cell_type": "code",
   "execution_count": null,
   "metadata": {},
   "outputs": [],
   "source": [
    "#目的変数の分布を確認\n",
    "prob_counts = train[\"problems\"].value_counts()\n",
    "print(prob_counts)\n",
    "\n",
    "#counts = counts.sort_index()\n",
    "prob_counts[:10]"
   ]
  },
  {
   "cell_type": "code",
   "execution_count": null,
   "metadata": {},
   "outputs": [],
   "source": [
    "spc_counts = train[\"spc_common\"].value_counts()\n",
    "print(spc_counts)\n",
    "\n",
    "#counts = counts.sort_index()\n",
    "spc_counts.plot.bar(\"spc_common\")"
   ]
  },
  {
   "cell_type": "code",
   "execution_count": null,
   "metadata": {},
   "outputs": [],
   "source": [
    "# 木の種類 - 最初の10をダミー化する\n",
    "counts[:15].sum()"
   ]
  },
  {
   "cell_type": "code",
   "execution_count": null,
   "metadata": {},
   "outputs": [],
   "source": [
    "counts = train[\"spc_latin\"].value_counts()\n",
    "print(counts)\n",
    "\n",
    "#counts = counts.sort_index()\n",
    "counts.plot.bar(\"spc_latin\")"
   ]
  },
  {
   "cell_type": "code",
   "execution_count": null,
   "metadata": {},
   "outputs": [],
   "source": [
    "# 木の種類 - 最初の10をダミー化する\n",
    "counts[:10]"
   ]
  },
  {
   "cell_type": "code",
   "execution_count": null,
   "metadata": {},
   "outputs": [],
   "source": [
    "#地域（Neighborhood Tabulation Area）の略称\n",
    "counts = train[\"nta\"].value_counts()\n",
    "print(counts)\n",
    "\n",
    "#counts = counts.sort_index()\n",
    "counts.plot.bar(\"nta\")"
   ]
  },
  {
   "cell_type": "code",
   "execution_count": null,
   "metadata": {},
   "outputs": [],
   "source": [
    "#地域（Neighborhood Tabulation Area）の略称\n",
    "counts = train[\"nta_name\"].value_counts()\n",
    "print(counts)\n",
    "\n",
    "#counts = counts.sort_index()\n",
    "counts.plot.bar(\"nta_name\")"
   ]
  },
  {
   "cell_type": "code",
   "execution_count": null,
   "metadata": {},
   "outputs": [],
   "source": [
    "# vill, beach, side, hill, park, water, bay, gardenなど木に影響しそうな名称を抽出するか？？\n",
    "counts[:30]"
   ]
  },
  {
   "cell_type": "code",
   "execution_count": null,
   "metadata": {},
   "outputs": [],
   "source": [
    "#ニューヨーク市の行政区分（ボロー）のコード\n",
    "#ボロコードは非常に有益そう。量的変数にする\n",
    "counts = train[\"borocode\"].value_counts()\n",
    "print(counts)\n",
    "\n",
    "#counts = counts.sort_index()\n",
    "counts.plot.bar(\"borocode\")"
   ]
  },
  {
   "cell_type": "code",
   "execution_count": null,
   "metadata": {},
   "outputs": [],
   "source": [
    "counts = train[\"boro_ct\"].value_counts()\n",
    "print(counts)\n",
    "\n",
    "#counts = counts.sort_index()\n",
    "counts.plot.bar(\"boro_ct\")"
   ]
  },
  {
   "cell_type": "code",
   "execution_count": null,
   "metadata": {},
   "outputs": [],
   "source": [
    "#　ニューヨーク市の行政区分（ボロー）の名称\n",
    "#　ボロー名称は有効そう。ダミー変数にする\n",
    "\n",
    "counts = train[\"boroname\"].value_counts()\n",
    "print(counts)\n",
    "\n",
    "#counts = counts.sort_index()\n",
    "counts.plot.bar(\"boroname\")"
   ]
  },
  {
   "cell_type": "code",
   "execution_count": null,
   "metadata": {},
   "outputs": [],
   "source": [
    "#　郵便番号に関連する都市または地区\n",
    "#　最初の5-10個をダミー化するか??\n",
    "# 頻度を量的変数にする、などより有効なダミー化も検討中\n",
    "\n",
    "counts = train[\"zip_city\"].value_counts()\n",
    "print(counts)\n",
    "\n",
    "#counts = counts.sort_index()\n",
    "counts.plot.bar(\"zip_city\")"
   ]
  },
  {
   "cell_type": "code",
   "execution_count": null,
   "metadata": {},
   "outputs": [],
   "source": [
    "#　ニューヨーク市の行政区分（ボロー）の名称\n",
    "#　ボロー名称は有効そう。ダミー変数にする\n",
    "\n",
    "counts = train[\"cb_num\"].value_counts()\n",
    "print(counts)\n",
    "\n",
    "#counts = counts.sort_index()\n",
    "counts.plot.bar(\"cb_num\")"
   ]
  },
  {
   "cell_type": "code",
   "execution_count": null,
   "metadata": {},
   "outputs": [],
   "source": [
    "#　ニューヨーク市の行政区分（ボロー）の名称\n",
    "#　ボロー名称は有効そう。ダミー変数にする\n",
    "\n",
    "counts = train[\"st_senate\"].value_counts()\n",
    "print(counts)\n",
    "\n",
    "#counts = counts.sort_index()\n",
    "counts.plot.bar(\"st_senate\")"
   ]
  },
  {
   "cell_type": "code",
   "execution_count": null,
   "metadata": {},
   "outputs": [],
   "source": [
    "#　ニューヨーク市の行政区分（ボロー）の名称\n",
    "#　ボロー名称は有効そう。ダミー変数にする\n",
    "\n",
    "counts = train[\"st_assem\"].value_counts()\n",
    "print(counts)\n",
    "\n",
    "#counts = counts.sort_index()\n",
    "counts.plot.bar(\"st_assem\")"
   ]
  },
  {
   "cell_type": "code",
   "execution_count": null,
   "metadata": {},
   "outputs": [],
   "source": [
    "#　ニューヨーク市の行政区分（ボロー）の名称\n",
    "#　ボロー名称は有効そう。ダミー変数にする\n",
    "\n",
    "counts = train[\"cncldist\"].value_counts()\n",
    "print(counts)\n",
    "\n",
    "#counts = counts.sort_index()\n",
    "counts.plot.bar(\"cncldist\")"
   ]
  },
  {
   "cell_type": "code",
   "execution_count": null,
   "metadata": {},
   "outputs": [],
   "source": []
  },
  {
   "cell_type": "markdown",
   "metadata": {},
   "source": []
  },
  {
   "cell_type": "code",
   "execution_count": null,
   "metadata": {},
   "outputs": [],
   "source": [
    "len(counts)"
   ]
  },
  {
   "cell_type": "markdown",
   "metadata": {},
   "source": [
    "→最初の10個の問題をダミー化する"
   ]
  },
  {
   "cell_type": "code",
   "execution_count": null,
   "metadata": {},
   "outputs": [],
   "source": [
    "probs = prob_counts.index\n",
    "problist = probs[:20]\n",
    "problist "
   ]
  },
  {
   "cell_type": "code",
   "execution_count": null,
   "metadata": {},
   "outputs": [],
   "source": [
    "# NOTE　not_problist - 10のproblem以外の変数を除外するためのリスト\n",
    "not_problist = probs[20:]\n",
    "not_problist"
   ]
  },
  {
   "cell_type": "code",
   "execution_count": null,
   "metadata": {},
   "outputs": [],
   "source": [
    "#木の種類15種をダミー化するためのリスト\n",
    "spcs = spc_counts.index\n",
    "spclist = spcs[:20]\n",
    "spclist"
   ]
  },
  {
   "cell_type": "code",
   "execution_count": null,
   "metadata": {},
   "outputs": [],
   "source": [
    "# NOTE　not_problist - 10のproblem以外の変数を除外するためのリスト\n",
    "not_spcslist = spcs[20:]\n",
    "not_spcslist"
   ]
  },
  {
   "cell_type": "markdown",
   "metadata": {},
   "source": [
    "# 前処理"
   ]
  },
  {
   "cell_type": "markdown",
   "metadata": {},
   "source": [
    "# ベースライン作成に用いる変数\n",
    "tree_dbh\n",
    "curb_loc\n",
    "steward\n",
    "guards\n",
    "sidewalk\n",
    "user_type"
   ]
  },
  {
   "cell_type": "code",
   "execution_count": null,
   "metadata": {},
   "outputs": [],
   "source": [
    "x_list = [\"tree_dbh\",\"curb_loc\",\"steward\",\"guards\",\"sidewalk\",\"user_type\",\"problems\",\"spc_common\",\"nta\",\"borocode\",\"boro_ct\", \"zip_city\", \"cb_num\", \"st_senate\", \"st_assem\", \"cncldist\"]\n",
    "y_list = [\"health\"]\n",
    "dummy_list = [\"curb_loc\",\"steward\",\"guards\",\"sidewalk\",\"user_type\",\"borocode\"]"
   ]
  },
  {
   "cell_type": "code",
   "execution_count": null,
   "metadata": {},
   "outputs": [],
   "source": [
    "train.head(5)"
   ]
  },
  {
   "cell_type": "code",
   "execution_count": null,
   "metadata": {},
   "outputs": [],
   "source": [
    "train.head(5)"
   ]
  },
  {
   "cell_type": "markdown",
   "metadata": {},
   "source": [
    "## 木の健康状態（目的変数）\n",
    "0:Fair（普通） 1:Good（良い） 2:Poor（悪い）\n",
    "0:良い、1:普通、2:悪い、という値に置き換える"
   ]
  },
  {
   "cell_type": "code",
   "execution_count": null,
   "metadata": {},
   "outputs": [],
   "source": [
    "train['health'] = train['health'].map({0:1, 1:0, 2:2})\n",
    "train"
   ]
  },
  {
   "cell_type": "code",
   "execution_count": null,
   "metadata": {},
   "outputs": [],
   "source": []
  },
  {
   "cell_type": "code",
   "execution_count": null,
   "metadata": {},
   "outputs": [],
   "source": [
    "#　説明変数+目的変数とバリデーション設計\n",
    "X_train, y_train = train[x_list], train[y_list]\n",
    "X_train"
   ]
  },
  {
   "cell_type": "code",
   "execution_count": null,
   "metadata": {},
   "outputs": [],
   "source": [
    "y_train"
   ]
  },
  {
   "cell_type": "code",
   "execution_count": null,
   "metadata": {},
   "outputs": [],
   "source": [
    "X_train.isnull().sum()"
   ]
  },
  {
   "cell_type": "markdown",
   "metadata": {},
   "source": [
    "→　欠損値は'NULL'というカテゴリに置き換え、欠損であるという情報=質的変数の1つとして処理する"
   ]
  },
  {
   "cell_type": "code",
   "execution_count": null,
   "metadata": {},
   "outputs": [],
   "source": [
    "train.fillna('NULL', inplace=True)"
   ]
  },
  {
   "cell_type": "code",
   "execution_count": null,
   "metadata": {},
   "outputs": [],
   "source": [
    "column_means = train.groupby(\"steward\")[\"health\"].mean(\"health\")\n",
    "column_means"
   ]
  },
  {
   "cell_type": "code",
   "execution_count": null,
   "metadata": {},
   "outputs": [],
   "source": [
    "test[\"steward\"]"
   ]
  },
  {
   "cell_type": "code",
   "execution_count": null,
   "metadata": {},
   "outputs": [],
   "source": [
    "X_train.fillna('NULL', inplace=True)"
   ]
  },
  {
   "cell_type": "code",
   "execution_count": null,
   "metadata": {},
   "outputs": [],
   "source": [
    "X_train.head(20)"
   ]
  },
  {
   "cell_type": "code",
   "execution_count": null,
   "metadata": {},
   "outputs": [],
   "source": [
    "# problemsをbool変換 → 問題があるか否かのダミー変数にする\n",
    "# train['bool_problems'] = train['problems'].apply(lambda x: 0 if x=='NULL' else 1)"
   ]
  },
  {
   "cell_type": "code",
   "execution_count": null,
   "metadata": {},
   "outputs": [],
   "source": [
    "#　木の直径とhealthの関係\n",
    "import matplotlib.pyplot as plt\n",
    "import seaborn as sns\n",
    "import warnings\n",
    "warnings.simplefilter('ignore')\n",
    "\n",
    "plt.figure(figsize=(10, 6))\n",
    "sns.boxplot(x='health', y='tree_dbh', data=train)\n",
    "plt.title('木の円周・木の健康状態の箱ひげ図')\n",
    "plt.show()"
   ]
  },
  {
   "cell_type": "markdown",
   "metadata": {},
   "source": [
    "→ badな木は若干円周が大きい。育ちすぎ等の原因があるかもしれない"
   ]
  },
  {
   "cell_type": "markdown",
   "metadata": {},
   "source": [
    "# 特徴量エンジニアリング"
   ]
  },
  {
   "cell_type": "markdown",
   "metadata": {},
   "source": [
    "今回の特徴量エンジニアリング\n",
    "\n",
    "x_list = [\"tree_dbh\", \"curb_loc\",\"steward\",\"guards\",\"sidewalk\",\"user_type\"]\n",
    "y_list = [\"health\"]\n",
    "dummy_list = [\"curb_loc\",\"steward\",\"guards\",\"sidewalk\",\"user_type\"]\n",
    "\n",
    "- [\"curb_loc\",\"steward\",\"guards\",\"sidewalk\",\"user_type\"]をダミー化する\n",
    "- \"problems\"をダミー化する。その際最初の10行だけを残す\n"
   ]
  },
  {
   "cell_type": "markdown",
   "metadata": {},
   "source": [
    "# 質的変数をターゲットエンコーディング\n",
    "まず各コラムの平均値を求める"
   ]
  },
  {
   "cell_type": "code",
   "execution_count": null,
   "metadata": {},
   "outputs": [],
   "source": [
    "# 一挙にターゲットエンコーディング\n",
    "cols = [\"curb_loc\",\"steward\",\"guards\",\"sidewalk\",\"user_type\",\"problems\",\"spc_common\",\"nta\",\"borocode\",\"boro_ct\", \"zip_city\", \"cb_num\", \"st_senate\", \"st_assem\", \"cncldist\"]\n",
    "for col in cols:\n",
    "    column_means = train.groupby(col)[\"health\"].mean(\"health\")\n",
    "    column_means\n",
    "    \n",
    "    colname = col + \"_tg_enc\"\n",
    "    \n",
    "    X_train[colname] = train[col].map(column_means)"
   ]
  },
  {
   "cell_type": "code",
   "execution_count": null,
   "metadata": {},
   "outputs": [],
   "source": [
    "X_train"
   ]
  },
  {
   "cell_type": "code",
   "execution_count": null,
   "metadata": {},
   "outputs": [],
   "source": [
    "# problems, spc_commonをドロップアウト\n",
    "drop_col = [\"curb_loc\",\"steward\",\"guards\",\"sidewalk\",\"user_type\",\"problems\",\"spc_common\",\"nta\",\"borocode\",\"boro_ct\", \"zip_city\", \"cb_num\", \"st_senate\", \"st_assem\", \"cncldist\"]\n",
    "\n",
    "X_train = X_train.drop(drop_col , axis=1)\n",
    "X_train"
   ]
  },
  {
   "cell_type": "code",
   "execution_count": null,
   "metadata": {},
   "outputs": [],
   "source": [
    "# 可視化ライブラリ\n",
    "import matplotlib.pyplot as plt\n",
    "import seaborn as sns\n",
    "sns.set()\n",
    "%matplotlib inline\n",
    "\n",
    "colormap = plt.cm.RdBu"
   ]
  },
  {
   "cell_type": "code",
   "execution_count": null,
   "metadata": {},
   "outputs": [],
   "source": [
    "corr = X_train.corr()"
   ]
  },
  {
   "cell_type": "code",
   "execution_count": null,
   "metadata": {},
   "outputs": [],
   "source": [
    "sns.heatmap(corr, square=True, \n",
    "            cmap=colormap, \n",
    "            linecolor='white', annot=False,\n",
    "            vmin=1.0, vmax=-1.0)"
   ]
  },
  {
   "cell_type": "code",
   "execution_count": null,
   "metadata": {},
   "outputs": [],
   "source": [
    "X_train[\"problems_tg_enc\"].hist(bins = 20)"
   ]
  },
  {
   "cell_type": "code",
   "execution_count": null,
   "metadata": {},
   "outputs": [],
   "source": [
    "# NOTE not_problistに含まれている変数を除外する\n",
    "# NOTE not_spcslistに服あれている変数を除外する\n",
    "\"\"\"\n",
    "num = 17 + len(problist)\n",
    "X_train_02 = X_train.iloc[:, 0:num]\n",
    "X_train_02\n",
    "\"\"\"\n",
    "\"\"\"\n",
    "X_train = pd.get_dummies(X_train, columns = [\"problems\"], drop_first=False)\n",
    "X_train\n",
    "\n",
    "for column in not_problist:\n",
    "    \n",
    "    colname = \"problems_\" + str(column)\n",
    "    X_train = X_train.drop(columns=colname, axis=1)\n",
    "\"\"\""
   ]
  },
  {
   "cell_type": "code",
   "execution_count": null,
   "metadata": {},
   "outputs": [],
   "source": [
    "\"\"\"\n",
    "X_train = pd.get_dummies(X_train, columns = [\"spc_common\"], drop_first=False)\n",
    "X_train\n",
    "\n",
    "for spc in not_spcslist:\n",
    "    \n",
    "    colname = \"spc_common_\" + str(spc)\n",
    "    X_train = X_train.drop(columns=colname, axis=1)\n",
    "    \n",
    "X_train\n",
    "\"\"\""
   ]
  },
  {
   "cell_type": "markdown",
   "metadata": {},
   "source": [
    "## 質的変数を頻度を表す量的変数に変更する"
   ]
  },
  {
   "cell_type": "code",
   "execution_count": null,
   "metadata": {},
   "outputs": [],
   "source": [
    "# 特徴量：ProblemsFreq - Ticket頻度をチケットを表す量的変数とする\n",
    "#X_train.loc[:, 'Problems_Freq'] = X_train.groupby(['problems'])['problems'].transform('count')\n",
    "#X_train"
   ]
  },
  {
   "cell_type": "code",
   "execution_count": null,
   "metadata": {},
   "outputs": [],
   "source": [
    "# 特徴量：ProblemsFreq - Ticket頻度をチケットを表す量的変数とする\n",
    "#X_train.loc[:, 'Spcs_Freq'] = X_train.groupby(['spc_common'])['spc_common'].transform('count')\n",
    "#X_train"
   ]
  },
  {
   "cell_type": "markdown",
   "metadata": {},
   "source": [
    "ここまで実行"
   ]
  },
  {
   "cell_type": "code",
   "execution_count": null,
   "metadata": {},
   "outputs": [],
   "source": [
    "# problems, spc_commonをドロップアウト\n",
    "#drop_col = [\"problems\",\"spc_common\"]\n",
    "#X_train = X_train.drop(drop_col , axis=1)"
   ]
  },
  {
   "cell_type": "markdown",
   "metadata": {},
   "source": [
    "# 特徴量選択\n",
    "学習に使う特徴量を半分に絞る\n"
   ]
  },
  {
   "cell_type": "code",
   "execution_count": null,
   "metadata": {},
   "outputs": [],
   "source": [
    "\"\"\"\n",
    "from sklearn.feature_selection import RFE\n",
    "from sklearn.ensemble import GradientBoostingRegressor\n",
    "\n",
    "# estimatorとしてGBDTを使用。特徴量を20個選択\n",
    "selector = RFE(GradientBoostingRegressor(n_estimators=100, random_state=10), n_features_to_select=20)\n",
    "selector.fit(X_train, y_train)\n",
    "mask = selector.get_support()\n",
    "#print(X.feature_names)\n",
    "print(mask)\n",
    "\n",
    "# 選択した特徴量の列のみ取得\n",
    "X_selected = selector.transform(X_train)\n",
    "print(\"X.shape={}, X_selected.shape={}\".format(X_train.shape, X_selected.shape))\n",
    "\n",
    "list = []\n",
    "not_selected = []\n",
    "columns = X_train.columns\n",
    "\n",
    "for i in range(0, len(mask)):\n",
    "    \n",
    "    value = mask[i]\n",
    "    \n",
    "    if (value == True):\n",
    "        list.append(columns[i])\n",
    "    else:\n",
    "        not_selected.append(columns[i])\n",
    "\n",
    "print(\"選択された20の特徴量：\")\n",
    "print(list)\n",
    "\n",
    "print(\"選択されなかった特徴量：\")\n",
    "print(not_selected)\n",
    "\"\"\""
   ]
  },
  {
   "cell_type": "markdown",
   "metadata": {},
   "source": [
    "# 標準化"
   ]
  },
  {
   "cell_type": "code",
   "execution_count": null,
   "metadata": {},
   "outputs": [],
   "source": [
    "from sklearn.preprocessing import StandardScaler\n",
    "\n",
    "std_scaler = StandardScaler()\n",
    "std_scaler.fit(X_train)\n",
    "X_train_std = pd.DataFrame(std_scaler.transform(X_train), columns=X_train.columns)\n",
    "X_train_std.describe()"
   ]
  },
  {
   "cell_type": "code",
   "execution_count": null,
   "metadata": {},
   "outputs": [],
   "source": [
    "X_train_std.head(10)"
   ]
  },
  {
   "cell_type": "markdown",
   "metadata": {},
   "source": [
    "# X_train_stdを次元圧縮"
   ]
  },
  {
   "cell_type": "code",
   "execution_count": null,
   "metadata": {},
   "outputs": [],
   "source": [
    "from sklearn import preprocessing\n",
    "from sklearn import decomposition\n",
    "from sklearn.manifold import TSNE"
   ]
  },
  {
   "cell_type": "code",
   "execution_count": null,
   "metadata": {},
   "outputs": [],
   "source": [
    "pca = decomposition.PCA()\n",
    "X_pca = pca.fit_transform(X_train_std)\n",
    "X_pca"
   ]
  },
  {
   "cell_type": "code",
   "execution_count": null,
   "metadata": {},
   "outputs": [],
   "source": [
    "X_pca.shape"
   ]
  },
  {
   "cell_type": "code",
   "execution_count": null,
   "metadata": {},
   "outputs": [],
   "source": [
    "X_tsne_nc = TSNE(learning_rate = 100).fit_transform(X_train_std)\n",
    "print(X_tsne_nc[:5, :5])\n",
    "print(\"--- X_tsne_nopca ---\")"
   ]
  },
  {
   "cell_type": "code",
   "execution_count": null,
   "metadata": {},
   "outputs": [],
   "source": [
    "X_tsne = TSNE(learning_rate = 100).fit_transform(X_pca)\n",
    "print(X_tsne[:5, :5])\n",
    "print(\"--- X_tsne ---\")"
   ]
  },
  {
   "cell_type": "code",
   "execution_count": null,
   "metadata": {},
   "outputs": [],
   "source": [
    "plt.figure(figsize = (12, 12))\n",
    "\n",
    "plt.subplot(221)\n",
    "plt.scatter(X_train_std[\"tree_dbh\"], X_train_std[\"problems_tg_enc\"],color = \"blue\", alpha = 0.25)\n",
    "\n",
    "plt.subplot(222)\n",
    "plt.scatter(X_tsne_nc[:,0], X_tsne_nc[:,1],color = \"blue\", alpha = 0.25)\n",
    "\n",
    "plt.subplot(223)\n",
    "plt.scatter(X_pca[:,0], X_pca[:,1],color = \"blue\", alpha = 0.25)\n",
    "\n",
    "plt.subplot(224)\n",
    "plt.scatter(X_tsne[:,0], X_tsne[:,1],color = \"blue\", alpha = 0.25)\n",
    "\n",
    "plt.show()"
   ]
  },
  {
   "cell_type": "code",
   "execution_count": null,
   "metadata": {},
   "outputs": [],
   "source": [
    "次元圧縮は pca→t-SNEの順に行うのが効果的"
   ]
  },
  {
   "cell_type": "code",
   "execution_count": null,
   "metadata": {},
   "outputs": [],
   "source": [
    "# ホールドアウト検証 - 学習用・テスト用の分割を1通り決める\n",
    "X_tr, X_va, y_tr, y_va = train_test_split(X_tsne, y_train, test_size=0.2, shuffle=True, stratify=y_train, random_state=123)\n",
    "\n",
    "print(\"学習用・訓練用データの形状：\")\n",
    "print(X_tr.shape)\n",
    "print(y_tr.shape)\n",
    "print(X_va.shape)\n",
    "print(y_va.shape)"
   ]
  },
  {
   "cell_type": "markdown",
   "metadata": {},
   "source": [
    "# モデル最適化"
   ]
  },
  {
   "cell_type": "code",
   "execution_count": null,
   "metadata": {},
   "outputs": [],
   "source": [
    "import optuna\n",
    "\n",
    "# LGBMのパラメータ\n",
    "params_base = {\"boosting_type\":\"gbdt\",\n",
    "          \"objective\":\"multiclass\",\n",
    "          \"metric\":\"multi_logloss\",\n",
    "          \"num_class\":\"3\",\n",
    "          \"learning_rate\":0.01,\n",
    "          \"n_estimators\":1000,\n",
    "          \"random_state\":123,\n",
    "          \"importance_type\":\"gain\",\n",
    "          \"early_stopping_round\":100,\n",
    "          \"verbose\":10\n",
    "          }\n",
    "\n",
    "def objective(trial):\n",
    "    from sklearn.metrics import f1_score\n",
    "\n",
    "# チューニングで探索する最適パラメータ\n",
    "    params_tuning = {\n",
    "        \"num_leaves\": trial.suggest_int(\"num_leaves\", 8, 256),\n",
    "        \"min_data_in_leaf\":trial.suggest_int(\"min_data_in_leaf\", 5,200),\n",
    "        \"min_sum_hessian_in_leaf\":trial.suggest_float(\"min_sum_hessian_in_leaf\", 0.00001, 0.01, log = True),\n",
    "        \"feature_fraction\":trial.suggest_float(\"feature_fraction\", 0.5, 1.0),\n",
    "        \"bagging_fraction\":trial.suggest_float(\"bagging_fraction\", 0.5, 1.0),\n",
    "        \"lambda_l1\":trial.suggest_float(\"lambda_l1\", 0.01, 10.0, log = True),\n",
    "        \"lambda_l2\":trial.suggest_float(\"lambda_l2\", 0.01, 10.0, log = True)\n",
    "    }\n",
    "    \n",
    "    #tuningにbaseの値を加える\n",
    "    params_tuning.update(params_base)\n",
    "    \n",
    "    #モデル学習(ベイズ最適化)\n",
    "    list_metrics=[]\n",
    "    \n",
    "    # ホールドアウト検証 - 学習用・テスト用の分割を1通り決める\n",
    "    X_tr, X_va, y_tr, y_va = train_test_split(X_train, y_train, test_size=0.2, shuffle=True, stratify=y_train, random_state=123)\n",
    "\n",
    "        \n",
    "    model = lgb.LGBMClassifier(**params_tuning)\n",
    "        \n",
    "    model.fit(X_tr, y_tr, eval_set=[(X_tr, y_tr),(X_va, y_va)], \n",
    "                    #early_stopping_rounds=100, \n",
    "                    #verbose=0\n",
    "                    )\n",
    "    y_va_pred = model.predict(X_va)\n",
    "    \n",
    "    #検証精度を求める\n",
    "    metric_va = f1_score(y_va, y_va_pred, average='macro')\n",
    "    #metric_va = accuracy_score(y_va, y_va_pred)\n",
    "    return metric_va\n",
    "\n",
    "# 探索を実行\n",
    "sampler = optuna.samplers.TPESampler(seed=123)\n",
    "study = optuna.create_study(sampler=sampler, direction=\"maximize\")\n",
    "study.optimize(objective, n_trials=100)"
   ]
  },
  {
   "cell_type": "code",
   "execution_count": null,
   "metadata": {},
   "outputs": [],
   "source": [
    "# 探索で得られた結果を確認\n",
    "trial = study.best_trial\n",
    "print(\"最も高いF1スコア\")\n",
    "print(trial.value)\n",
    "\n",
    "print(\"最も高い精度となるパラメータ：\")\n",
    "print(trial.params)"
   ]
  },
  {
   "cell_type": "markdown",
   "metadata": {},
   "source": [
    "最も高い精度：\n",
    "0.7880910683012259\n",
    "最も高い精度となるパラメータ：\n",
    "{'num_leaves': 181, 'min_data_in_leaf': 61, 'min_sum_hessian_in_leaf': 4.792414358623587e-05, 'feature_fraction': 0.7756573845414456, 'bagging_fraction': 0.8597344848927815, 'lambda_l1': 0.18591711878786357, 'lambda_l2': 8.755734725056497}"
   ]
  },
  {
   "cell_type": "code",
   "execution_count": null,
   "metadata": {},
   "outputs": [],
   "source": [
    "params_best = trial.params\n",
    "params_best.update(params_base)\n",
    "display(params_best)"
   ]
  },
  {
   "cell_type": "code",
   "execution_count": null,
   "metadata": {},
   "outputs": [],
   "source": [
    "# LGBMのモデル\n",
    "model = lgb.LGBMClassifier(**params_best)\n",
    "model.fit(X_tr, y_tr, eval_set=[(X_tr, y_tr),(X_va, y_va)])"
   ]
  },
  {
   "cell_type": "code",
   "execution_count": null,
   "metadata": {},
   "outputs": [],
   "source": [
    "# AUC値に加え精度を算出する\n",
    "y_tr_pred = model.predict(X_tr)\n",
    "y_va_pred = model.predict(X_va)\n",
    "\n",
    "metric_tr = accuracy_score(y_tr, y_tr_pred)\n",
    "metric_va = accuracy_score(y_va, y_va_pred)\n",
    "print(\"モデル精度:\")\n",
    "print(\"学習精度\")\n",
    "print(metric_tr)\n",
    "print(\"検証精度\")\n",
    "print(metric_va)"
   ]
  },
  {
   "cell_type": "code",
   "execution_count": null,
   "metadata": {},
   "outputs": [],
   "source": [
    "from sklearn.metrics import f1_score\n",
    "\n",
    "valid_predictions = model.predict(X_va)\n",
    "valid_f1 = f1_score(y_va, valid_predictions, average='macro')\n",
    "\n",
    "print(\"マクロf1スコア：\")\n",
    "print(valid_f1)\n",
    "\n",
    "micro_f1 = f1_score(y_va, valid_predictions, average='micro')\n",
    "\n",
    "print(\"ミクロf1スコア：\")\n",
    "print(micro_f1)"
   ]
  },
  {
   "cell_type": "code",
   "execution_count": null,
   "metadata": {},
   "outputs": [],
   "source": [
    "from sklearn.metrics import balanced_accuracy_score\n",
    "\n",
    "bas_score = balanced_accuracy_score(y_va, valid_predictions)\n",
    "\n",
    "print(\"比重付き精度：\")\n",
    "print(bas_score)"
   ]
  },
  {
   "cell_type": "code",
   "execution_count": null,
   "metadata": {},
   "outputs": [],
   "source": [
    "# 混合行列 - ラベルの正誤の分類数をまとめる\n",
    "from sklearn.metrics import confusion_matrix, ConfusionMatrixDisplay\n",
    "\n",
    "cm = confusion_matrix(y_va_pred, y_va)\n",
    "print(\"混合行列：\")\n",
    "print(cm)\n",
    "\n",
    "disp = ConfusionMatrixDisplay(confusion_matrix=cm, display_labels=[\"0\",\"1\",\"2\"])\n",
    "disp.plot()\n",
    "plt.show()"
   ]
  },
  {
   "cell_type": "markdown",
   "metadata": {},
   "source": [
    "→ようやく改善が見られた。1, 2のラベルが正確に分類されるようにする。"
   ]
  },
  {
   "cell_type": "code",
   "execution_count": null,
   "metadata": {},
   "outputs": [],
   "source": [
    "# 寄与率算出\n",
    "# feature importanceを表示\n",
    "# importanceを表示する\n",
    "importance = pd.DataFrame(model.feature_importances_, index=X_tr.columns, columns=['importance'])\n",
    "impo02 = importance.sort_values(by=\"importance\")\n",
    "display(impo02)"
   ]
  },
  {
   "cell_type": "code",
   "execution_count": null,
   "metadata": {},
   "outputs": [],
   "source": [
    "lgb.plot_importance(model)"
   ]
  },
  {
   "cell_type": "markdown",
   "metadata": {},
   "source": [
    "problems_TrunkOther\t0.000000\n",
    "problems_StonesTrunkOther\t2.406300\n",
    "problems_BranchOther\t10.268320\n",
    "steward_3or4\t13.906020\n",
    "problems_RootOtherTrunkOtherBranchOther\t20.130170\n",
    "steward_4orMore\t22.130930\n",
    "curb_loc_OnCurb\t26.089900\n",
    "problems_StonesRootOther\t29.473130\n",
    "steward_NULL\t31.843760\n",
    "sidewalk_NoDamage\t37.184240\n",
    "problems_StonesBranchOther\t38.574340\n",
    "curb_loc_OffsetFromCurb\t38.776410\n",
    "problems_BranchLights\t39.326430\n",
    "guards_Unsure\t40.097710\n",
    "problems_RootOther\t49.345920\n",
    "guards_Harmful\t54.356240\n",
    "\n",
    "problemsは殆ど寄与していないものもある\n",
    "problems_TrunkOther\t0.000000\n",
    "problems_StonesTrunkOther\t2.406300\n",
    "problems_BranchOther\t10.268320\n",
    "problems_RootOtherTrunkOtherBranchOther\t20.130170\n",
    "problems_StonesRootOther\t29.473130\n"
   ]
  },
  {
   "cell_type": "code",
   "execution_count": null,
   "metadata": {},
   "outputs": [],
   "source": [
    "X_train.columns"
   ]
  },
  {
   "cell_type": "code",
   "execution_count": null,
   "metadata": {},
   "outputs": [],
   "source": [
    "ここまで実行"
   ]
  },
  {
   "cell_type": "markdown",
   "metadata": {},
   "source": [
    "# ロジスティック回帰による予測\n"
   ]
  },
  {
   "cell_type": "code",
   "execution_count": null,
   "metadata": {},
   "outputs": [],
   "source": [
    "# \n",
    "from sklearn.linear_model import LogisticRegression\n",
    "\n",
    "model_lr = LogisticRegression(random_state=0)\n",
    "model_lr.fit(X_tr, y_tr)\n",
    "\n",
    "y_pred = model_lr.predict(X_va)\n",
    "y_pred"
   ]
  },
  {
   "cell_type": "code",
   "execution_count": null,
   "metadata": {},
   "outputs": [],
   "source": [
    "bas_score = balanced_accuracy_score(y_va, y_pred)\n",
    "\n",
    "print(\"比重付き精度：\")\n",
    "print(bas_score)\n",
    "\n",
    "from sklearn.metrics import f1_score\n",
    "\n",
    "valid_predictions = model_lr.predict(X_va)\n",
    "valid_f1 = f1_score(y_va, y_pred, average='macro')\n",
    "\n",
    "print(\"マクロf1スコア：\")\n",
    "print(valid_f1)"
   ]
  },
  {
   "cell_type": "code",
   "execution_count": null,
   "metadata": {},
   "outputs": [],
   "source": [
    "# 混合行列 - ラベルの正誤の分類数をまとめる\n",
    "from sklearn.metrics import confusion_matrix, ConfusionMatrixDisplay\n",
    "\n",
    "cm = confusion_matrix(y_pred, y_va)\n",
    "print(\"混合行列：\")\n",
    "print(cm)\n",
    "\n",
    "disp = ConfusionMatrixDisplay(confusion_matrix=cm, display_labels=[\"0\",\"1\",\"2\"])\n",
    "disp.plot()\n",
    "plt.show()"
   ]
  },
  {
   "cell_type": "code",
   "execution_count": null,
   "metadata": {},
   "outputs": [],
   "source": [
    "# 近傍中心法で学習\n",
    "from sklearn.neighbors import NearestCentroid\n",
    "\n",
    "model_nc = NearestCentroid()\n",
    "model_nc.fit(X_tr, y_tr)\n",
    "\n",
    "y_pred = model_nc.predict(X_va)\n",
    "y_pred"
   ]
  },
  {
   "cell_type": "code",
   "execution_count": null,
   "metadata": {},
   "outputs": [],
   "source": [
    "bas_score = balanced_accuracy_score(y_va, y_pred)\n",
    "\n",
    "print(\"比重付き精度：\")\n",
    "print(bas_score)\n",
    "\n",
    "from sklearn.metrics import f1_score\n",
    "\n",
    "valid_predictions = model_nc.predict(X_va)\n",
    "valid_f1 = f1_score(y_va, y_pred, average='macro')\n",
    "\n",
    "print(\"マクロf1スコア：\")\n",
    "print(valid_f1)"
   ]
  },
  {
   "cell_type": "code",
   "execution_count": null,
   "metadata": {},
   "outputs": [],
   "source": [
    "# 混合行列 - ラベルの正誤の分類数をまとめる\n",
    "from sklearn.metrics import confusion_matrix, ConfusionMatrixDisplay\n",
    "\n",
    "cm = confusion_matrix(y_pred, y_va)\n",
    "print(\"混合行列：\")\n",
    "print(cm)\n",
    "\n",
    "disp = ConfusionMatrixDisplay(confusion_matrix=cm, display_labels=[\"0\",\"1\",\"2\"])\n",
    "disp.plot()\n",
    "plt.show()"
   ]
  },
  {
   "cell_type": "markdown",
   "metadata": {},
   "source": [
    "# ガウシアンナイーブベイズによる予測"
   ]
  },
  {
   "cell_type": "code",
   "execution_count": null,
   "metadata": {},
   "outputs": [],
   "source": [
    "from sklearn.naive_bayes import GaussianNB\n",
    "\n",
    "model_gnb = GaussianNB()\n",
    "model_gnb.fit(X_tr, y_tr)\n",
    "\n",
    "y_pred = model_gnb.predict(X_va)\n",
    "y_pred"
   ]
  },
  {
   "cell_type": "code",
   "execution_count": null,
   "metadata": {},
   "outputs": [],
   "source": [
    "bas_score = balanced_accuracy_score(y_va, y_pred)\n",
    "\n",
    "print(\"比重付き精度：\")\n",
    "print(bas_score)\n",
    "\n",
    "from sklearn.metrics import f1_score\n",
    "\n",
    "valid_predictions = model_gnb.predict(X_va)\n",
    "valid_f1 = f1_score(y_va, y_pred, average='macro')\n",
    "\n",
    "print(\"マクロf1スコア：\")\n",
    "print(valid_f1)\n",
    "\n",
    "# 混合行列 - ラベルの正誤の分類数をまとめる\n",
    "from sklearn.metrics import confusion_matrix, ConfusionMatrixDisplay\n",
    "\n",
    "cm = confusion_matrix(y_pred, y_va)\n",
    "print(\"混合行列：\")\n",
    "print(cm)\n",
    "\n",
    "disp = ConfusionMatrixDisplay(confusion_matrix=cm, display_labels=[\"0\",\"1\",\"2\"])\n",
    "disp.plot()\n",
    "plt.show()"
   ]
  },
  {
   "cell_type": "markdown",
   "metadata": {},
   "source": [
    "# ランダムフォレスト法による予測"
   ]
  },
  {
   "cell_type": "code",
   "execution_count": null,
   "metadata": {},
   "outputs": [],
   "source": [
    "from sklearn.ensemble import RandomForestClassifier\n",
    "\n",
    "model_rf = RandomForestClassifier()\n",
    "model_rf.fit(X_tr, y_tr)\n",
    "\n",
    "y_pred = model_rf.predict(X_va)\n",
    "y_pred"
   ]
  },
  {
   "cell_type": "code",
   "execution_count": null,
   "metadata": {},
   "outputs": [],
   "source": [
    "bas_score = balanced_accuracy_score(y_va, y_pred)\n",
    "\n",
    "print(\"比重付き精度：\")\n",
    "print(bas_score)\n",
    "\n",
    "from sklearn.metrics import f1_score\n",
    "\n",
    "valid_predictions = model_rf.predict(X_va)\n",
    "valid_f1 = f1_score(y_va, y_pred, average='macro')\n",
    "\n",
    "print(\"マクロf1スコア：\")\n",
    "print(valid_f1)\n",
    "\n",
    "# 混合行列 - ラベルの正誤の分類数をまとめる\n",
    "from sklearn.metrics import confusion_matrix, ConfusionMatrixDisplay\n",
    "\n",
    "cm = confusion_matrix(y_pred, y_va)\n",
    "print(\"混合行列：\")\n",
    "print(cm)\n",
    "\n",
    "disp = ConfusionMatrixDisplay(confusion_matrix=cm, display_labels=[\"0\",\"1\",\"2\"])\n",
    "disp.plot()\n",
    "plt.show()"
   ]
  },
  {
   "cell_type": "code",
   "execution_count": null,
   "metadata": {},
   "outputs": [],
   "source": []
  },
  {
   "cell_type": "code",
   "execution_count": null,
   "metadata": {},
   "outputs": [],
   "source": [
    "import lazypredict\n",
    "from lazypredict.Supervised import LazyClassifier\n",
    "\n",
    "reg = LazyClassifier(ignore_warnings=True, random_state=1121, verbose=False,predictions=True)\n",
    "models, predictions = reg.fit(X_tr, X_va, y_tr, y_va) \n",
    "\n",
    "print(\"モデルの精度・評価指標：\")\n",
    "display(models)\n",
    "print(\"テストデータの予測値：\")\n",
    "display(predictions)"
   ]
  },
  {
   "cell_type": "code",
   "execution_count": null,
   "metadata": {},
   "outputs": [],
   "source": [
    "from sklearn.linear_model import PassiveAggressiveClassifier\n",
    "\n",
    "model_pac = PassiveAggressiveClassifier()\n",
    "model_pac.fit(X_tr, y_tr)\n",
    "\n",
    "y_pred = model_pac.predict(X_va)\n",
    "y_pred"
   ]
  },
  {
   "cell_type": "code",
   "execution_count": null,
   "metadata": {},
   "outputs": [],
   "source": [
    "bas_score = balanced_accuracy_score(y_va, y_pred)\n",
    "\n",
    "print(\"比重付き精度：\")\n",
    "print(bas_score)\n",
    "\n",
    "from sklearn.metrics import f1_score\n",
    "valid_f1 = f1_score(y_va, y_pred, average='macro')\n",
    "\n",
    "print(\"マクロf1スコア：\")\n",
    "print(valid_f1)\n",
    "\n",
    "# 混合行列 - ラベルの正誤の分類数をまとめる\n",
    "from sklearn.metrics import confusion_matrix, ConfusionMatrixDisplay\n",
    "\n",
    "cm = confusion_matrix(y_pred, y_va)\n",
    "print(\"混合行列：\")\n",
    "print(cm)\n",
    "\n",
    "disp = ConfusionMatrixDisplay(confusion_matrix=cm, display_labels=[\"0\",\"1\",\"2\"])\n",
    "disp.plot()\n",
    "plt.show()"
   ]
  },
  {
   "cell_type": "markdown",
   "metadata": {},
   "source": [
    "# ExtraTreeClassifierを学習"
   ]
  },
  {
   "cell_type": "code",
   "execution_count": null,
   "metadata": {},
   "outputs": [],
   "source": [
    "from sklearn.tree import ExtraTreeClassifier\n",
    "\n",
    "model_etc = ExtraTreeClassifier()\n",
    "model_etc.fit(X_tr, y_tr)\n",
    "\n",
    "y_pred = model_etc.predict(X_va)\n",
    "y_pred"
   ]
  },
  {
   "cell_type": "code",
   "execution_count": null,
   "metadata": {},
   "outputs": [],
   "source": [
    "bas_score = balanced_accuracy_score(y_va, y_pred)\n",
    "\n",
    "print(\"比重付き精度：\")\n",
    "print(bas_score)\n",
    "\n",
    "from sklearn.metrics import f1_score\n",
    "valid_f1 = f1_score(y_va, y_pred, average='macro')\n",
    "\n",
    "print(\"マクロf1スコア：\")\n",
    "print(valid_f1)\n",
    "\n",
    "# 混合行列 - ラベルの正誤の分類数をまとめる\n",
    "from sklearn.metrics import confusion_matrix, ConfusionMatrixDisplay\n",
    "\n",
    "cm = confusion_matrix(y_pred, y_va)\n",
    "print(\"混合行列：\")\n",
    "print(cm)\n",
    "\n",
    "disp = ConfusionMatrixDisplay(confusion_matrix=cm, display_labels=[\"0\",\"1\",\"2\"])\n",
    "disp.plot()\n",
    "plt.show()"
   ]
  },
  {
   "cell_type": "markdown",
   "metadata": {},
   "source": [
    "# DecisionTreeClassifierを学習"
   ]
  },
  {
   "cell_type": "code",
   "execution_count": null,
   "metadata": {},
   "outputs": [],
   "source": [
    "from sklearn.tree import DecisionTreeClassifier\n",
    "\n",
    "model_dtc = DecisionTreeClassifier()\n",
    "model_dtc.fit(X_tr, y_tr)\n",
    "\n",
    "y_pred = model_dtc.predict(X_va)\n",
    "y_pred"
   ]
  },
  {
   "cell_type": "code",
   "execution_count": null,
   "metadata": {},
   "outputs": [],
   "source": [
    "bas_score = balanced_accuracy_score(y_va, y_pred)\n",
    "\n",
    "print(\"比重付き精度：\")\n",
    "print(bas_score)\n",
    "\n",
    "from sklearn.metrics import f1_score\n",
    "valid_f1 = f1_score(y_va, y_pred, average='macro')\n",
    "\n",
    "print(\"マクロf1スコア：\")\n",
    "print(valid_f1)\n",
    "\n",
    "# 混合行列 - ラベルの正誤の分類数をまとめる\n",
    "from sklearn.metrics import confusion_matrix, ConfusionMatrixDisplay\n",
    "\n",
    "cm = confusion_matrix(y_pred, y_va)\n",
    "print(\"混合行列：\")\n",
    "print(cm)\n",
    "\n",
    "disp = ConfusionMatrixDisplay(confusion_matrix=cm, display_labels=[\"0\",\"1\",\"2\"])\n",
    "disp.plot()\n",
    "plt.show()"
   ]
  },
  {
   "cell_type": "markdown",
   "metadata": {},
   "source": [
    "# QuadraticDiscriminantAnalysisを学習"
   ]
  },
  {
   "cell_type": "code",
   "execution_count": null,
   "metadata": {},
   "outputs": [],
   "source": [
    "#　QuadraticDiscriminantAnalysisを学習\n",
    "from sklearn.discriminant_analysis import QuadraticDiscriminantAnalysis\n",
    "\n",
    "model_qda = QuadraticDiscriminantAnalysis()\n",
    "model_qda.fit(X_tr, y_tr)\n",
    "\n",
    "y_pred = model_qda.predict(X_va)\n",
    "y_pred"
   ]
  },
  {
   "cell_type": "code",
   "execution_count": null,
   "metadata": {},
   "outputs": [],
   "source": [
    "bas_score = balanced_accuracy_score(y_va, y_pred)\n",
    "\n",
    "print(\"比重付き精度：\")\n",
    "print(bas_score)\n",
    "\n",
    "from sklearn.metrics import f1_score\n",
    "valid_f1 = f1_score(y_va, y_pred, average='macro')\n",
    "\n",
    "print(\"マクロf1スコア：\")\n",
    "print(valid_f1)\n",
    "\n",
    "# 混合行列 - ラベルの正誤の分類数をまとめる\n",
    "from sklearn.metrics import confusion_matrix, ConfusionMatrixDisplay\n",
    "\n",
    "cm = confusion_matrix(y_pred, y_va)\n",
    "print(\"混合行列：\")\n",
    "print(cm)\n",
    "\n",
    "disp = ConfusionMatrixDisplay(confusion_matrix=cm, display_labels=[\"0\",\"1\",\"2\"])\n",
    "disp.plot()\n",
    "plt.show()"
   ]
  },
  {
   "cell_type": "markdown",
   "metadata": {},
   "source": [
    "# LinearDiscriminantAnalysis"
   ]
  },
  {
   "cell_type": "code",
   "execution_count": null,
   "metadata": {},
   "outputs": [],
   "source": [
    "#　QuadraticDiscriminantAnalysisを学習\n",
    "from sklearn.discriminant_analysis import LinearDiscriminantAnalysis\n",
    "\n",
    "model_lda = LinearDiscriminantAnalysis()\n",
    "model_lda.fit(X_train_std, y_train)\n",
    "\n",
    "y_pred = model_lda.predict(X_va)\n",
    "y_pred"
   ]
  },
  {
   "cell_type": "code",
   "execution_count": null,
   "metadata": {},
   "outputs": [],
   "source": [
    "bas_score = balanced_accuracy_score(y_va, y_pred)\n",
    "\n",
    "print(\"比重付き精度：\")\n",
    "print(bas_score)\n",
    "\n",
    "from sklearn.metrics import f1_score\n",
    "valid_f1 = f1_score(y_va, y_pred, average='macro')\n",
    "\n",
    "print(\"マクロf1スコア：\")\n",
    "print(valid_f1)\n",
    "\n",
    "# 混合行列 - ラベルの正誤の分類数をまとめる\n",
    "from sklearn.metrics import confusion_matrix, ConfusionMatrixDisplay\n",
    "\n",
    "cm = confusion_matrix(y_pred, y_va)\n",
    "print(\"混合行列：\")\n",
    "print(cm)\n",
    "\n",
    "disp = ConfusionMatrixDisplay(confusion_matrix=cm, display_labels=[\"0\",\"1\",\"2\"])\n",
    "disp.plot()\n",
    "plt.show()"
   ]
  },
  {
   "cell_type": "markdown",
   "metadata": {},
   "source": [
    "# BaggingClassifierを学習"
   ]
  },
  {
   "cell_type": "code",
   "execution_count": null,
   "metadata": {},
   "outputs": [],
   "source": [
    "#　QuadraticDiscriminantAnalysisを学習\n",
    "from sklearn.ensemble import BaggingClassifier\n",
    "\n",
    "model_bc = BaggingClassifier()\n",
    "model_bc.fit(X_tr, y_tr)\n",
    "\n",
    "y_pred = model_bc.predict(X_va)\n",
    "y_pred"
   ]
  },
  {
   "cell_type": "code",
   "execution_count": null,
   "metadata": {},
   "outputs": [],
   "source": [
    "bas_score = balanced_accuracy_score(y_va, y_pred)\n",
    "\n",
    "print(\"比重付き精度：\")\n",
    "print(bas_score)\n",
    "\n",
    "from sklearn.metrics import f1_score\n",
    "valid_f1 = f1_score(y_va, y_pred, average='macro')\n",
    "\n",
    "print(\"マクロf1スコア：\")\n",
    "print(valid_f1)\n",
    "\n",
    "# 混合行列 - ラベルの正誤の分類数をまとめる\n",
    "from sklearn.metrics import confusion_matrix, ConfusionMatrixDisplay\n",
    "\n",
    "cm = confusion_matrix(y_pred, y_va)\n",
    "print(\"混合行列：\")\n",
    "print(cm)\n",
    "\n",
    "disp = ConfusionMatrixDisplay(confusion_matrix=cm, display_labels=[\"0\",\"1\",\"2\"])\n",
    "disp.plot()\n",
    "plt.show()"
   ]
  },
  {
   "cell_type": "code",
   "execution_count": null,
   "metadata": {},
   "outputs": [],
   "source": [
    "# Perceptronを学習"
   ]
  },
  {
   "cell_type": "code",
   "execution_count": null,
   "metadata": {},
   "outputs": [],
   "source": [
    "from sklearn.linear_model import Perceptron\n",
    "\n",
    "model_pcpt = BaggingClassifier()\n",
    "model_pcpt.fit(X_tr, y_tr)\n",
    "\n",
    "y_pred = model_pcpt.predict(X_va)\n",
    "y_pred"
   ]
  },
  {
   "cell_type": "code",
   "execution_count": null,
   "metadata": {},
   "outputs": [],
   "source": [
    "bas_score = balanced_accuracy_score(y_va, y_pred)\n",
    "\n",
    "print(\"比重付き精度：\")\n",
    "print(bas_score)\n",
    "\n",
    "from sklearn.metrics import f1_score\n",
    "valid_f1 = f1_score(y_va, y_pred, average='macro')\n",
    "\n",
    "print(\"マクロf1スコア：\")\n",
    "print(valid_f1)\n",
    "\n",
    "# 混合行列 - ラベルの正誤の分類数をまとめる\n",
    "from sklearn.metrics import confusion_matrix, ConfusionMatrixDisplay\n",
    "\n",
    "cm = confusion_matrix(y_pred, y_va)\n",
    "print(\"混合行列：\")\n",
    "print(cm)\n",
    "\n",
    "disp = ConfusionMatrixDisplay(confusion_matrix=cm, display_labels=[\"0\",\"1\",\"2\"])\n",
    "disp.plot()\n",
    "plt.show()"
   ]
  },
  {
   "cell_type": "code",
   "execution_count": null,
   "metadata": {},
   "outputs": [],
   "source": [
    "from sklearn.ensemble import ExtraTreesClassifier\n",
    "\n",
    "model_etc = ExtraTreesClassifier()\n",
    "model_etc.fit(X_tr, y_tr)\n",
    "\n",
    "y_pred = model_etc.predict(X_va)\n",
    "y_pred"
   ]
  },
  {
   "cell_type": "code",
   "execution_count": null,
   "metadata": {},
   "outputs": [],
   "source": [
    "bas_score = balanced_accuracy_score(y_va, y_pred)\n",
    "\n",
    "print(\"比重付き精度：\")\n",
    "print(bas_score)\n",
    "\n",
    "from sklearn.metrics import f1_score\n",
    "valid_f1 = f1_score(y_va, y_pred, average='macro')\n",
    "\n",
    "print(\"マクロf1スコア：\")\n",
    "print(valid_f1)\n",
    "\n",
    "# 混合行列 - ラベルの正誤の分類数をまとめる\n",
    "from sklearn.metrics import confusion_matrix, ConfusionMatrixDisplay\n",
    "\n",
    "cm = confusion_matrix(y_pred, y_va)\n",
    "print(\"混合行列：\")\n",
    "print(cm)\n",
    "\n",
    "disp = ConfusionMatrixDisplay(confusion_matrix=cm, display_labels=[\"0\",\"1\",\"2\"])\n",
    "disp.plot()\n",
    "plt.show()"
   ]
  },
  {
   "cell_type": "markdown",
   "metadata": {},
   "source": [
    "# 投稿用データを作成"
   ]
  },
  {
   "cell_type": "code",
   "execution_count": null,
   "metadata": {},
   "outputs": [],
   "source": [
    "# 説明変数・目的変数\n",
    "X_test = test[x_list]\n",
    "X_test\n",
    "\n",
    "# 欠損値補完\n",
    "X_test.fillna('NULL', inplace=True)\n",
    "X_test"
   ]
  },
  {
   "cell_type": "code",
   "execution_count": null,
   "metadata": {},
   "outputs": [],
   "source": [
    "# 一挙にターゲットエンコーディング\n",
    "cols = [\"curb_loc\",\"steward\",\"guards\",\"sidewalk\",\"user_type\",\"problems\",\"spc_common\",\"nta\",\"borocode\",\"boro_ct\", \"zip_city\", \"cb_num\", \"st_senate\", \"st_assem\", \"cncldist\"]\n",
    "for col in cols:\n",
    "    column_means = train.groupby(col)[\"health\"].mean(\"health\")\n",
    "    column_means\n",
    "    \n",
    "    colname = col + \"_tg_enc\"\n",
    "    \n",
    "    X_test[colname] = X_test[col].map(column_means)"
   ]
  },
  {
   "cell_type": "code",
   "execution_count": null,
   "metadata": {},
   "outputs": [],
   "source": [
    "# problems, spc_commonをドロップアウト\n",
    "drop_col = [\"curb_loc\",\"steward\",\"guards\",\"sidewalk\",\"user_type\",\"problems\",\"spc_common\",\"nta\",\"borocode\",\"boro_ct\", \"zip_city\", \"cb_num\", \"st_senate\", \"st_assem\", \"cncldist\"]\n",
    "X_test = X_test.drop(drop_col , axis=1)\n",
    "X_test"
   ]
  },
  {
   "cell_type": "code",
   "execution_count": null,
   "metadata": {},
   "outputs": [],
   "source": [
    "from sklearn.preprocessing import StandardScaler\n",
    "\n",
    "std_scaler = StandardScaler()\n",
    "std_scaler.fit(X_test)\n",
    "X_test_std = pd.DataFrame(std_scaler.transform(X_test), columns=X_train.columns)\n",
    "X_test_std\n",
    "# X_train_std.describe()"
   ]
  },
  {
   "cell_type": "code",
   "execution_count": null,
   "metadata": {},
   "outputs": [],
   "source": [
    "# 予測\n",
    "y_test_pred = model_pac.predict(X_test_std)\n",
    "y_test_pred"
   ]
  },
  {
   "cell_type": "code",
   "execution_count": null,
   "metadata": {},
   "outputs": [],
   "source": [
    "# NOTE 予測結果を1次元ベクトルにする\n",
    "y_test_pred = np.squeeze(y_test_pred)\n",
    "y_test_pred.shape\n",
    "y_test_pred"
   ]
  },
  {
   "cell_type": "code",
   "execution_count": null,
   "metadata": {},
   "outputs": [],
   "source": [
    "# NOTE 予測結果をpdにして処理\n",
    "df_submit = pd.DataFrame(data=y_test_pred, columns=['y_pred'])\n",
    "df_submit"
   ]
  },
  {
   "cell_type": "code",
   "execution_count": null,
   "metadata": {},
   "outputs": [],
   "source": [
    "df_submit.value_counts()"
   ]
  },
  {
   "cell_type": "code",
   "execution_count": null,
   "metadata": {},
   "outputs": [],
   "source": [
    "df_submit['y_pred'] = df_submit['y_pred'].map({0:1, 1:0, 2:2})\n",
    "df_submit"
   ]
  },
  {
   "cell_type": "code",
   "execution_count": null,
   "metadata": {},
   "outputs": [],
   "source": [
    "df_submit.value_counts()"
   ]
  },
  {
   "cell_type": "code",
   "execution_count": null,
   "metadata": {},
   "outputs": [],
   "source": [
    "y_test_pred = df_submit[\"y_pred\"].to_numpy()"
   ]
  },
  {
   "cell_type": "code",
   "execution_count": null,
   "metadata": {},
   "outputs": [],
   "source": [
    "sample_submit[1] = y_test_pred\n",
    "sample_submit"
   ]
  },
  {
   "cell_type": "code",
   "execution_count": null,
   "metadata": {},
   "outputs": [],
   "source": [
    "#木の健康状態を0・1を置き換える\n",
    "#train['health'] = train['health'].map({0:1, 1:0, 2:2})\n",
    "#train\n",
    "\n",
    "sample_submit.to_csv('submit_PassiveAggressiveClassifier_01.csv', header=None)"
   ]
  },
  {
   "cell_type": "code",
   "execution_count": null,
   "metadata": {},
   "outputs": [],
   "source": []
  },
  {
   "cell_type": "code",
   "execution_count": null,
   "metadata": {},
   "outputs": [],
   "source": []
  },
  {
   "cell_type": "code",
   "execution_count": null,
   "metadata": {},
   "outputs": [],
   "source": []
  },
  {
   "cell_type": "code",
   "execution_count": null,
   "metadata": {},
   "outputs": [],
   "source": []
  },
  {
   "cell_type": "code",
   "execution_count": null,
   "metadata": {},
   "outputs": [],
   "source": []
  },
  {
   "cell_type": "code",
   "execution_count": null,
   "metadata": {},
   "outputs": [],
   "source": []
  }
 ],
 "metadata": {
  "kernelspec": {
   "display_name": "Python 3",
   "language": "python",
   "name": "python3"
  },
  "language_info": {
   "codemirror_mode": {
    "name": "ipython",
    "version": 3
   },
   "file_extension": ".py",
   "mimetype": "text/x-python",
   "name": "python",
   "nbconvert_exporter": "python",
   "pygments_lexer": "ipython3",
   "version": "3.11.4"
  }
 },
 "nbformat": 4,
 "nbformat_minor": 2
}
