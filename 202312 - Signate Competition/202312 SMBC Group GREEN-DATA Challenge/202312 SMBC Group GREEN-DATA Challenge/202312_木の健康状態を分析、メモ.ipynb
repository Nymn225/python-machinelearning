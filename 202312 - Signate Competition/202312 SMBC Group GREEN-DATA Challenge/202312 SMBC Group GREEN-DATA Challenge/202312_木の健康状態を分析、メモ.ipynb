{
 "cells": [
  {
   "cell_type": "markdown",
   "metadata": {},
   "source": []
  },
  {
   "cell_type": "markdown",
   "metadata": {},
   "source": [
    "全てのラベルを1に割り振ってしまう、という状態。\n",
    "過学習しない・量的変数を増やす事を目標にする\n",
    "\n",
    "仮説：\n",
    "木のダメージにまつわる本質的な情報を取り出せると精度が向上する。\n",
    "歩道に生えているか、管理者は何人か、管理している人は専門家かボランティアか\n",
    "ダメージに関係しそうな木の問題はあるか、木の種類は何か、\n",
    "行政区分＝木の管理に割かれている予算はどれほどか、といった情報が抽出できると\n",
    "精度が向上するはず。\n",
    "\n",
    "これまでに試した分析法\n",
    "- [\"curb_loc\",\"steward\",\"guards\",\"sidewalk\",\"user_type\"]をダミー化する(drop_first=False)\n",
    "- \"problems\"をダミー化する。その際最初の10行だけを残す\n",
    "\n",
    "20231213、今日試す分析法\n",
    "- spc_commonをダミー化。その際最初の15行だけを残す→効果なし\n",
    "- problems、spc＿commonを量的変数を出現頻度を表す量的変数にする→効果なし\n",
    "\n",
    "- borocodeをダミー化\n",
    "\n",
    "# - stewardを量的変数に戻す。1.5, 3.5, 5の3値にする\n",
    "boro_ct ニューヨーク市のセンサストラクト（小地域統計区域）のコード\n",
    "cb_num コミュニティボード番号\n",
    "st_senate 州上院地区番号\n",
    "st_assem 州議会地区番号\n",
    "cncldist 市議会の地区番号\n",
    "→行政区分をダミー化、もしくは頻度の量的変数にする\n",
    "\n",
    "→ ダミー化は全く効かない。代わりにこれまでダミー化した値すべてをターゲットエンコーディングに切り替える。\n",
    "\n",
    "Target Encodingの変換 =「目的変数の平均値を特徴量にする」\n",
    "- [\"curb_loc\",\"steward\",\"guards\",\"sidewalk\",\"user_type\",\"borocode\"]をターゲットエンコーディングする\n",
    "→効果なし。他のすべての変数をターゲットエンコーディングしてみる\n",
    "[\"nta\",\"borocode\",\"boro_ct\", \"zip_city\", \"cb_num\", \"st_senate\", \"st_assem\", \"cncldist\"]をターゲットエンコーディング\n",
    "\n",
    "\n",
    "\n",
    "木の健康状態（目的変数）\n",
    "0:Fair（普通） 1:Good（良い） 2:Poor（悪い）\n",
    "0:良い、1:普通、2:悪い、という値に置き換える\n",
    "\n",
    "→ミクロF!スコアが比較的高い分類モデルの混合行列を検討する。\n",
    "LGBMのミクロF1スコアは0.7905929447085315\n",
    "\n",
    "→比重付き精度(Balanced score)が比較的高い分類モデルの混合行列を検討する。\n",
    "LGBMの比重付き精度は0.3471486196238671\n",
    "\n",
    "NearestCentroid　0.49\n",
    "GaussianNB　0.40\n",
    "PassiveAggressiveClassifier\t0.39\n",
    "QuadraticDiscriminantAnalysis 0.39\n",
    "ExtraTreeClassifier\t0.38\n",
    "DecisionTreeClassifier　0.37\n",
    "LogisticRegression　0.36\n",
    "\n",
    "\n",
    "\n",
    "全ての変数をターゲットエンコーディングしたところ、ようやく精度が向上した。\n",
    "一見木とか関係なさそうな 州議会地区番号・市議会の地区番号が実が重要、ということが分かる。"
   ]
  },
  {
   "cell_type": "markdown",
   "metadata": {},
   "source": [
    " [\"tree_dbh\",\"curb_loc\",\"steward\",\"guards\",\"sidewalk\",\"user_type\",\"problems\",\"spc_common\",\"nta\",\"borocode\",\"boro_ct\", \"zip_city\", \"cb_num\", \"st_senate\", \"st_assem\", \"cncldist\"]\n",
    "y_list = [\"health\"]"
   ]
  },
  {
   "cell_type": "markdown",
   "metadata": {},
   "source": [
    "\tsubmit_randomforest_01.csv\t0.3108493\t木の分析、ターゲットエンコーディング +...修正\t2023-12-14 10:08:23\n",
    "\tsubmit_randomforest_01.csv\t0.1165707\t木の分析、ランダムフォレスト法による予測修正\t2023-12-13 14:33:06\n",
    "\tsubmit_gnb_01.csv\t0.3415307\t木の分析、ガウシアンナイーブベイズによる...修正\t2023-12-13 14:27:36\n",
    "\tsubmit_lgbm_02.csv\t0.2957859\t木の分析、LGBMの改良版修正\t2023-12-13 14:13:35\n",
    "\tsubmit_lgbm_nearcenter01.csv\t0.3248569\t木の分析、近傍中心法を使った予測修正\t2023-12-13 14:06:32\n",
    "\tsubmit_lgbm_logreg01.csv\t0.3045470\t木の分析、ロジスティック回帰を使った予測修正\t2023-12-13 14:04:06\n",
    "\tsubmit_lgbm_baseline01.csv\t0.2943655\tLGBMによるベースライン、6変数のみに..."
   ]
  },
  {
   "cell_type": "markdown",
   "metadata": {},
   "source": []
  },
  {
   "cell_type": "code",
   "execution_count": null,
   "metadata": {},
   "outputs": [],
   "source": [
    "精度が高くなる予測モデルの特徴\n",
    "→ Accuracyが過学習していない(0.79にならない、混合行列を見た際の再現度が高い)、\n",
    "ミクロF1スコアが高い、\n",
    "\n",
    "GaussianNB\n",
    "マクロf1スコア：\n",
    "0.3803493338446983\n",
    "\n",
    "PassiveAggressiveClassifier\n",
    "マクロf1スコア：\n",
    "0.4168970929151401\n",
    "\n",
    "ExtraTreeClassifier\n",
    "マクロf1スコア：\n",
    "0.37019650218319544\n",
    "\n",
    "DecisionTreeClassifier\n",
    "マクロf1スコア：\n",
    "0.37882986018366616\n",
    "\n",
    "QuadraticDiscriminantAnalysis\n",
    "マクロf1スコア：\n",
    "0.3720410136832782\n",
    "\n",
    "LinearDiscriminantAnalysis\n",
    "マクロf1スコア：\n",
    "0.3581063198509942\n",
    "\n",
    "BaggingClassifier\n",
    "マクロf1スコア：\n",
    "0.3713729527219161\n",
    "\n",
    "Perceptron\n",
    "マクロf1スコア：\n",
    "0.35592729143234053\n",
    "\n",
    "ExtraTreesClassifier\n",
    "マクロf1スコア：\n",
    "0.350071925186423\n",
    "\n",
    "KNeighborsClassifier\t"
   ]
  },
  {
   "cell_type": "code",
   "execution_count": null,
   "metadata": {},
   "outputs": [],
   "source": [
    "LGBMで精度向上 → 最適化時の指標をマクロF1スコアにする\n",
    "指標をマクロF1にするだけではこれ以上改善できない。\n",
    "他のアルゴリズムを試したら特徴量エンジニアリングによる精度向上に\n",
    "移行する\n",
    "\n",
    "→ラベルが実際１・2の場合どのようなスコアが多いか、という特徴を\n",
    "　分析する。ダミー化等でそうした指標を狙って値に入れる"
   ]
  },
  {
   "cell_type": "code",
   "execution_count": null,
   "metadata": {},
   "outputs": [],
   "source": [
    "暫定評価が高いモデルでアンサンブル学習する\n",
    "→ ガウシアンナイーブベイズ"
   ]
  },
  {
   "cell_type": "code",
   "execution_count": null,
   "metadata": {},
   "outputs": [],
   "source": [
    "PassiveAggressiveClassifier\n",
    "GaussianNB"
   ]
  },
  {
   "cell_type": "markdown",
   "metadata": {},
   "source": []
  },
  {
   "cell_type": "code",
   "execution_count": null,
   "metadata": {},
   "outputs": [],
   "source": [
    "ターゲットエンコーディングに加え、\n",
    "ユニーク数が少ない質的変数のダミー、\n",
    "problemsの有無を含めたダミーを入れて\n",
    "lazypredict時の値が向上するか検証する！"
   ]
  },
  {
   "cell_type": "code",
   "execution_count": null,
   "metadata": {},
   "outputs": [],
   "source": [
    "次元圧縮 → うまく特徴量を抽出できていれば\n",
    "t-SNEで圧縮した時にクラスターが浮かび上がるはず"
   ]
  },
  {
   "cell_type": "code",
   "execution_count": null,
   "metadata": {},
   "outputs": [],
   "source": [
    "t-SNEで圧縮したデータを学習させて精度を検証する\n",
    "→逆効果。16次元から2次元の圧縮では効果は薄い"
   ]
  },
  {
   "cell_type": "code",
   "execution_count": null,
   "metadata": {},
   "outputs": [],
   "source": [
    "curb_loc, steward, guards, sidewalk, user_typeなど\n",
    "木の状態に関係する値をダミー化する\n",
    "problemsのみ、そのブール値をダミー化する\n",
    "\n",
    "bool_problems"
   ]
  },
  {
   "cell_type": "code",
   "execution_count": null,
   "metadata": {},
   "outputs": [],
   "source": [
    "効果のあった特徴量エンジニアリング・予測モデル\n",
    "\n",
    "・ダミー化 → 効果なし\n",
    "・ターゲットエンコーディング → 質的変数が多い場合に有効\n",
    "　リーク情報を含めると精度が向上する\n",
    "・木の種類→種類からより分析に有効な値を抽出\n",
    " \n",
    "・LazyPredict → F1の高いモデルが有効\n",
    "\n",
    "・木ダメージ=特徴量を抽出すればより精度を高めることができる\n",
    "・時系列データ＝木ダメージと関係あるかも？\n",
    "・\"Problems\" - どう処理するか？→問題が多いほどダメージがある\n",
    "\n",
    "0：良い、1：普通、2：悪い"
   ]
  },
  {
   "cell_type": "code",
   "execution_count": null,
   "metadata": {},
   "outputs": [],
   "source": [
    "GaussianNB\n",
    "\n",
    "PassiveAggressiveClassifier\n",
    "\n",
    "LinearDiscriminantAnalysis\n",
    "\n",
    "ExtraTreesClassifier\n",
    "\n",
    "BaggingClassifier\n",
    "\n",
    "ExtraTreeClassifier"
   ]
  },
  {
   "cell_type": "code",
   "execution_count": null,
   "metadata": {},
   "outputs": [],
   "source": [
    "20231215\n",
    "・変数全てをターゲットエンコーディング\n",
    "[\"curb_loc\",\"steward\",\"guards\",\"sidewalk\",\"user_type\",\"problems\",\"spc_common\",\"nta\",\"borocode\",\"boro_ct\", \"zip_city\", \"cb_num\", \"st_senate\", \"st_assem\", \"cncldist\"]\n",
    "・少数の質的変数をダミー化\n",
    "[\"curb_loc\",\"steward\",\"guards\",\"sidewalk\",\"user_type\",\"borocode\"]\n",
    "・標準化\n",
    "・特徴量選択 → 寄与率の低いノイズとなる変数を弾く"
   ]
  },
  {
   "cell_type": "code",
   "execution_count": null,
   "metadata": {},
   "outputs": [],
   "source": [
    "改善点\n",
    "ダミー化する変数に行政区分の情報を加える\n",
    "borocode\n"
   ]
  },
  {
   "cell_type": "code",
   "execution_count": null,
   "metadata": {},
   "outputs": [],
   "source": [
    "20231216\n",
    "データの不均衡度を検証、アンダーサンプリング・オーバーサンプリングで過学習対策を加える\n",
    "マッピング後の0の割合を半分に、それで精度が向上したら1/4に削減する\n",
    "\n",
    " pip install -U imbalanced-learn\n",
    " →アンダーサンプリング用のライブラリ\n",
    " \n",
    " \n",
    "0の割合：\n",
    "78.81805444355484 %\n",
    "半分：39.409\n",
    " 1/4：19.705\n",
    " \n",
    "1の割合：\n",
    "17.689151321056844 %\n",
    "\n",
    "2の割合：\n",
    "3.4927942353883106 %\n",
    "\n",
    "→割合を30,15,5にする\n",
    "\n",
    "4 / 50\n",
    "16 / 50\n",
    "30 / 50\n",
    "\n",
    "sum - 19984\n",
    "multiple\n",
    "\n",
    "→アンダーサンプリングは逆効果。\n",
    " 2の値をオーバーサンプリングする事を目指す！\n",
    "→等倍へのオーバーサンプリングは逆効果。\n",
    "次は1・2のみを2倍に増やして検証する\n",
    " \n",
    " "
   ]
  },
  {
   "cell_type": "code",
   "execution_count": null,
   "metadata": {},
   "outputs": [],
   "source": [
    "\tAccuracy\tBalanced Accuracy    ROC AUC　F1 Score Time Taken\n",
    "\n",
    "ExtraTreesClassifier\t0.89\t0.89\tNone\t0.89\t5.81\n",
    "model_etc\n",
    "比重付き精度：\n",
    "0.8864587541705916\n",
    "マクロf1スコア：\n",
    "0.8860502719302964\n",
    "\n",
    "RandomForestClassifier\t0.88\t0.88\tNone\t0.88\t10.44\n",
    "model_rf\n",
    "比重付き精度：\n",
    "0.882226755930342\n",
    "マクロf1スコア：\n",
    "0.8815924401494835\n",
    "\n",
    "XGBClassifier\t        0.86\t0.86\tNone\t0.86\t6.64\n",
    "LGBMClassifier\t        0.84\t0.84\tNone\t0.83\t1.20\n",
    "BaggingClassifier\t    0.82\t0.82\tNone\t0.82\t6.08\n",
    "KNeighborsClassifier\t0.78\t0.78\tNone\t0.78\t0.77\n",
    "ExtraTreeClassifier\t    0.76\t0.76\tNone\t0.76\t0.14\n",
    "DecisionTreeClassifier\t0.73\t0.73\tNone\t0.73\t0.67"
   ]
  },
  {
   "cell_type": "code",
   "execution_count": null,
   "metadata": {},
   "outputs": [],
   "source": [
    "\t                Accuracy BAccuracy ROC AUC　F1Score Time Taken\n",
    "\n",
    "Model\t\t\t\t\t\n",
    "LabelPropagation\t    0.71\t0.61\tNone\t0.71\t98.58\n",
    "LabelSpreading\t        0.71\t0.61\tNone\t0.71\t61.74\n",
    "ExtraTreesClassifier\t0.76\t0.57\tNone\t0.74\t2.94\n",
    "XGBClassifier\t        0.78\t0.54\tNone\t0.76\t2.51\n",
    "LGBMClassifier\t        0.78\t0.53\tNone\t0.75\t1.19\n",
    "RandomForestClassifier\t0.76\t0.53\tNone\t0.74\t3.86\n",
    "ExtraTreeClassifier\t    0.65\t0.52\tNone\t0.65\t0.06\n",
    "DecisionTreeClassifier\t0.65\t0.51\tNone\t0.65\t0.24\n",
    "BaggingClassifier\t    0.73\t0.50\tNone\t0.71\t1.66\n",
    "KNeighborsClassifier\t0.68\t0.48\tNone\t0.67\t0.34\n",
    "NearestCentroid\t        0.50\t0.47\tNone\t0.53\t0.06\n",
    "\n",
    "→オーバーサンプリングは効果なし！"
   ]
  },
  {
   "cell_type": "code",
   "execution_count": null,
   "metadata": {},
   "outputs": [],
   "source": [
    "時系列データを分析に加える\n",
    "\n",
    "→月、曜日、平日/休日のターゲットエンコーディング値とダミー変数を分析要因に加える\n",
    "→テキストのTF・IDF値を算出して分析に加える"
   ]
  },
  {
   "cell_type": "code",
   "execution_count": null,
   "metadata": {},
   "outputs": [],
   "source": [
    "→年・月のターゲットエンコーディングはほぼ効かない。次はダミーを含める1\n",
    "→ほんの少しだけ改善。"
   ]
  },
  {
   "cell_type": "code",
   "execution_count": null,
   "metadata": {},
   "outputs": [],
   "source": [
    "20231218\n",
    "１、ダミー変数をDropFirst = Trueにする\n",
    "→効果なし\n",
    "\n",
    "２、季節をダミー変数にする\n",
    "３、ダミー変数をレベルエンコーディングに、\n",
    "　その際ラベルエンコーディングした際の値が低い順にする\n",
    "３、これまでに作成した予測結果をアンサンブルする\n",
    "\n",
    "ランダムフォレストの特徴量を可視化する\n",
    "\n",
    "→年データを含めない・季節データをダミー化しない方が\n",
    "　精度が向上するのではないか？？\n",
    "\n",
    " \n",
    " 年を含めず精度向上するか、季節データののみで向上するかを検証する\n",
    " →年データは含めた方が良い\n",
    " \n",
    " Seasonをダミー化せずターゲットエンコーディングした方が精度が向上する？\n",
    " →逆効果。季節の様なカテゴリー数が少ないデータはターゲットエンコーディングしない方が良い。\n",
    "\n",
    " ターゲットエンコーディングしたボロコードの寄与率が異様に高いので、これを排除した方が\n",
    " 分類精度が上がるのではないか？\n",
    " \n",
    "guards_Helpful\t0.000000\n",
    "curb_loc_tg_enc\t0.000000\n",
    "steward_4orMore\t0.000000\n",
    "guards_Harmful\t0.000000\n",
    "sidewalk_NoDamage\t7.125190\n",
    "user_type_tg_enc\t31.364330\n",
    "borocode_2\t68.618100\n",
    "steward_3or4\t71.059918\n",
    "\n",
    "→これらの寄与率が低いデータが弾かれるようにする\n",
    "\n"
   ]
  },
  {
   "cell_type": "code",
   "execution_count": null,
   "metadata": {},
   "outputs": [],
   "source": [
    "25\n",
    "\n",
    "比重付き精度：\n",
    "0.4054251139399654\n",
    "マクロf1スコア：\n",
    "0.397620466909088"
   ]
  },
  {
   "cell_type": "code",
   "execution_count": null,
   "metadata": {},
   "outputs": [],
   "source": [
    "ニューラルネットワークの最適化\n",
    "・各層のユニット数とドロップアウト率\n",
    "・バッチ数\n",
    "\n",
    "result = model_nn.fit(X_tr, y_tr, batch_size=200, epochs=20, validation_data=(X_va, y_va), verbose=1)"
   ]
  },
  {
   "cell_type": "code",
   "execution_count": null,
   "metadata": {},
   "outputs": [],
   "source": [
    "これまでに最高精度が出た時の特徴量を使ってニューラルネットワークで予測を行う\n",
    "→ニューラルネットでは無理。\n",
    "精度の高い予測結果でアンサンブリングする"
   ]
  },
  {
   "cell_type": "code",
   "execution_count": null,
   "metadata": {},
   "outputs": [],
   "source": [
    "\n",
    "submit_35_GNB_DateData_Enc+Dammy+Season.csv\t0.3589799\n",
    " \n",
    "submit_35_GNB_DateData_Enc+Dammy+Season_NoYear.csv\t0.3581829\n",
    "submit_32_GNB_DateData_Enc+Dammy02.csv\t0.3554220\n",
    "submit_30_GNB_DateData_Enc.csv\t0.3534689\n",
    "submit_32_GNB_DateData_Enc+Dammy.csv\t0.3528905\n",
    "\n",
    "submit_25_GNB_DateData_Enc+Dammy+TMS_TEncOnly.csv\t0.3527337\n",
    "submit_PassiveAggressiveClassifier_01.csv\t0.3497088"
   ]
  },
  {
   "cell_type": "code",
   "execution_count": null,
   "metadata": {},
   "outputs": [],
   "source": [
    "最も予測能力が高い\n",
    "submit_35_GNB_DateData_Enc+Dammy+Season.csvをベースに\n",
    "他の予測結果を6つ、1:2の割合で加える\n",
    "\n",
    "ニューヨーク市の当月の平均気温・平均降水量・平均湿度などの天候データを\n",
    "マッピングして加える。予測精度に寄与するかも検証する"
   ]
  },
  {
   "cell_type": "code",
   "execution_count": null,
   "metadata": {},
   "outputs": [],
   "source": [
    "\n",
    " \t\n",
    "Jan\n",
    "Feb\n",
    "Mar\n",
    "Apr\n",
    "May\n",
    "Jun\n",
    "Average high in ºF\n",
    "39\t42\t50\t60\t71\t79\n",
    "Average low in ºF\n",
    "26\t29\t35\t44\t55\t64\n",
    "Days with precipitation\n",
    "11\t10\t12\t11\t11\t10\n",
    "Hours of sunshine\n",
    "154\t171\t213\t237\t268\t289\n",
    "Av. precipitation in inch\n",
    "3.90\t2.95\t4.06\t3.94\t4.45\t3.50\n",
    "\n",
    "\n",
    " \t\n",
    "Jul\n",
    "Aug\n",
    "Sep\n",
    "Oct\n",
    "Nov\n",
    "Dec\n",
    "Average high in ºF\n",
    "85\t83\t76\t65\t54\t44\n",
    "Average low in ºF\n",
    "70\t69\t61\t50\t41\t32\n",
    "Days with precipitation\n",
    "11\t10\t8\t8\t9\t10\n",
    "Hours of sunshine\n",
    "302\t271\t235\t213\t169\t155\n",
    "Av. precipitation in inch\n",
    "4.53\t4.13\t3.98\t3.39\t3.82\t3.58"
   ]
  },
  {
   "cell_type": "code",
   "execution_count": null,
   "metadata": {},
   "outputs": [],
   "source": [
    "\n",
    "avg_highf\n",
    "avg_lowf\n",
    "days_prcp\n",
    "inch_prcp\n",
    "hours_snsn\n",
    "\n",
    "\"avg_highf\", \"avg_lowf\", \"days_prcp\", \"inch_prcp\", \"hours_snsn\"\n",
    "\n",
    "→ まずは日照量で精度向上するかを検証\n",
    "→ 逆効果！次はすべての天候データを利用して予測する"
   ]
  }
 ],
 "metadata": {
  "language_info": {
   "name": "python"
  }
 },
 "nbformat": 4,
 "nbformat_minor": 2
}
