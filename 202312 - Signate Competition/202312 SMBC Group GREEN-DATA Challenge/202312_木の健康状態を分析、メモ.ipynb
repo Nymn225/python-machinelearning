{
 "cells": [
  {
   "cell_type": "markdown",
   "metadata": {},
   "source": []
  },
  {
   "cell_type": "code",
   "execution_count": null,
   "metadata": {},
   "outputs": [],
   "source": [
    "全てのラベルを1に割り振ってしまう、という状態。\n",
    "過学習しない・量的変数を増やす事を目標にする\n",
    "\n",
    "仮説：\n",
    "木のダメージにまつわる本質的な情報を取り出せると精度が向上する。\n",
    "歩道に生えているか、管理者は何人か、管理している人は専門家かボランティアか\n",
    "ダメージに関係しそうな木の問題はあるか、木の種類は何か、\n",
    "行政区分＝木の管理に割かれている予算はどれほどか、といった情報が抽出できると\n",
    "精度が向上するはず。\n",
    "\n",
    "これまでに試した分析法\n",
    "- [\"curb_loc\",\"steward\",\"guards\",\"sidewalk\",\"user_type\"]をダミー化する(drop_first=False)\n",
    "- \"problems\"をダミー化する。その際最初の10行だけを残す\n",
    "\n",
    "20231213、今日試す分析法\n",
    "- spc_commonをダミー化。その際最初の15行だけを残す→効果なし\n",
    "- problems、spc＿commonを量的変数を出現頻度を表す量的変数にする→効果なし\n",
    "\n",
    "- borocodeをダミー化\n",
    "\n",
    "# - stewardを量的変数に戻す。1.5, 3.5, 5の3値にする\n",
    "boro_ct ニューヨーク市のセンサストラクト（小地域統計区域）のコード\n",
    "cb_num コミュニティボード番号\n",
    "st_senate 州上院地区番号\n",
    "st_assem 州議会地区番号\n",
    "cncldist 市議会の地区番号\n",
    "→行政区分をダミー化、もしくは頻度の量的変数にする\n",
    "\n",
    "→ ダミー化は全く効かない。代わりにこれまでダミー化した値すべてをターゲットエンコーディングに切り替える。\n",
    "\n",
    "Target Encodingの変換 =「目的変数の平均値を特徴量にする」\n",
    "- [\"curb_loc\",\"steward\",\"guards\",\"sidewalk\",\"user_type\",\"borocode\"]をターゲットエンコーディングする\n",
    "→効果なし。他のすべての変数をターゲットエンコーディングしてみる\n",
    "[\"nta\",\"borocode\",\"boro_ct\", \"zip_city\", \"cb_num\", \"st_senate\", \"st_assem\", \"cncldist\"]をターゲットエンコーディング\n",
    "\n",
    "\n",
    "\n",
    "木の健康状態（目的変数）\n",
    "0:Fair（普通） 1:Good（良い） 2:Poor（悪い）\n",
    "0:良い、1:普通、2:悪い、という値に置き換える\n",
    "\n",
    "→ミクロF!スコアが比較的高い分類モデルの混合行列を検討する。\n",
    "LGBMのミクロF1スコアは0.7905929447085315\n",
    "\n",
    "→比重付き精度(Balanced score)が比較的高い分類モデルの混合行列を検討する。\n",
    "LGBMの比重付き精度は0.3471486196238671\n",
    "\n",
    "NearestCentroid　0.49\n",
    "GaussianNB　0.40\n",
    "PassiveAggressiveClassifier\t0.39\n",
    "QuadraticDiscriminantAnalysis 0.39\n",
    "ExtraTreeClassifier\t0.38\n",
    "DecisionTreeClassifier　0.37\n",
    "LogisticRegression　0.36\n",
    "\n",
    "\n",
    "\n",
    "全ての変数をターゲットエンコーディングしたところ、ようやく精度が向上した。\n",
    "一見木とか関係なさそうな 州議会地区番号・市議会の地区番号が実が重要、ということが分かる。"
   ]
  },
  {
   "cell_type": "code",
   "execution_count": null,
   "metadata": {},
   "outputs": [],
   "source": [
    " [\"tree_dbh\",\"curb_loc\",\"steward\",\"guards\",\"sidewalk\",\"user_type\",\"problems\",\"spc_common\",\"nta\",\"borocode\",\"boro_ct\", \"zip_city\", \"cb_num\", \"st_senate\", \"st_assem\", \"cncldist\"]\n",
    "y_list = [\"health\"]"
   ]
  },
  {
   "cell_type": "code",
   "execution_count": null,
   "metadata": {},
   "outputs": [],
   "source": [
    "\tsubmit_randomforest_01.csv\t0.3108493\t木の分析、ターゲットエンコーディング +...修正\t2023-12-14 10:08:23\n",
    "\tsubmit_randomforest_01.csv\t0.1165707\t木の分析、ランダムフォレスト法による予測修正\t2023-12-13 14:33:06\n",
    "\tsubmit_gnb_01.csv\t0.3415307\t木の分析、ガウシアンナイーブベイズによる...修正\t2023-12-13 14:27:36\n",
    "\tsubmit_lgbm_02.csv\t0.2957859\t木の分析、LGBMの改良版修正\t2023-12-13 14:13:35\n",
    "\tsubmit_lgbm_nearcenter01.csv\t0.3248569\t木の分析、近傍中心法を使った予測修正\t2023-12-13 14:06:32\n",
    "\tsubmit_lgbm_logreg01.csv\t0.3045470\t木の分析、ロジスティック回帰を使った予測修正\t2023-12-13 14:04:06\n",
    "\tsubmit_lgbm_baseline01.csv\t0.2943655\tLGBMによるベースライン、6変数のみに..."
   ]
  },
  {
   "cell_type": "markdown",
   "metadata": {},
   "source": []
  },
  {
   "cell_type": "code",
   "execution_count": null,
   "metadata": {},
   "outputs": [],
   "source": [
    "精度が高くなる予測モデルの特徴\n",
    "→ Accuracyが過学習していない(0.79にならない、混合行列を見た際の再現度が高い)、\n",
    "ミクロF1スコアが高い、\n",
    "\n",
    "GaussianNB\n",
    "マクロf1スコア：\n",
    "0.3803493338446983\n",
    "\n",
    "PassiveAggressiveClassifier\n",
    "マクロf1スコア：\n",
    "0.4168970929151401\n",
    "\n",
    "ExtraTreeClassifier\n",
    "マクロf1スコア：\n",
    "0.37019650218319544\n",
    "\n",
    "DecisionTreeClassifier\n",
    "マクロf1スコア：\n",
    "0.37882986018366616\n",
    "\n",
    "QuadraticDiscriminantAnalysis\n",
    "マクロf1スコア：\n",
    "0.3720410136832782\n",
    "\n",
    "LinearDiscriminantAnalysis\n",
    "マクロf1スコア：\n",
    "0.3581063198509942\n",
    "\n",
    "BaggingClassifier\n",
    "マクロf1スコア：\n",
    "0.3713729527219161\n",
    "\n",
    "Perceptron\n",
    "マクロf1スコア：\n",
    "0.35592729143234053\n",
    "\n",
    "ExtraTreesClassifier\n",
    "マクロf1スコア：\n",
    "0.350071925186423\n",
    "\n",
    "KNeighborsClassifier\t"
   ]
  },
  {
   "cell_type": "code",
   "execution_count": null,
   "metadata": {},
   "outputs": [],
   "source": [
    "LGBMで精度向上 → 最適化時の指標をマクロF1スコアにする\n",
    "指標をマクロF1にするだけではこれ以上改善できない。\n",
    "他のアルゴリズムを試したら特徴量エンジニアリングによる精度向上に\n",
    "移行する\n",
    "\n",
    "→ラベルが実際１・2の場合どのようなスコアが多いか、という特徴を\n",
    "　分析する。ダミー化等でそうした指標を狙って値に入れる"
   ]
  },
  {
   "cell_type": "code",
   "execution_count": null,
   "metadata": {},
   "outputs": [],
   "source": []
  },
  {
   "cell_type": "code",
   "execution_count": null,
   "metadata": {},
   "outputs": [],
   "source": [
    "次元削減による精度向上 → LLE、PCA、TSNEなどの次元圧縮で\n",
    "特徴量が発見しにくくなる「次元の呪い」を解く"
   ]
  },
  {
   "cell_type": "code",
   "execution_count": null,
   "metadata": {},
   "outputs": [],
   "source": [
    "暫定評価が高いモデルでアンサンブル学習する\n",
    "→ ガウシアンナイーブベイズ"
   ]
  },
  {
   "cell_type": "code",
   "execution_count": null,
   "metadata": {},
   "outputs": [],
   "source": [
    "PassiveAggressiveClassifier\n",
    "GaussianNB"
   ]
  },
  {
   "cell_type": "markdown",
   "metadata": {},
   "source": []
  },
  {
   "cell_type": "code",
   "execution_count": null,
   "metadata": {},
   "outputs": [],
   "source": [
    "ターゲットエンコーディングに加え、\n",
    "ユニーク数が少ない質的変数のダミー、\n",
    "problemsの有無を含めたダミーを入れて\n",
    "lazypredict時の値が向上するか検証する！"
   ]
  },
  {
   "cell_type": "code",
   "execution_count": null,
   "metadata": {},
   "outputs": [],
   "source": [
    "次元圧縮 → うまく特徴量を抽出できていれば\n",
    "t-SNEで圧縮した時にクラスターが浮かび上がるはず"
   ]
  },
  {
   "cell_type": "code",
   "execution_count": null,
   "metadata": {},
   "outputs": [],
   "source": [
    "t-SNEで圧縮したデータを学習させて精度を検証する\n",
    "→逆効果。16次元から2次元の圧縮では効果は薄い"
   ]
  },
  {
   "cell_type": "code",
   "execution_count": null,
   "metadata": {},
   "outputs": [],
   "source": [
    "curb_loc, steward, guards, sidewalk, user_typeなど\n",
    "木の状態に関係する値をダミー化する\n",
    "problemsのみ、そのブール値をダミー化する\n",
    "\n",
    "bool_problems"
   ]
  },
  {
   "cell_type": "code",
   "execution_count": null,
   "metadata": {},
   "outputs": [],
   "source": [
    "効果のあった特徴量エンジニアリング・予測モデル\n",
    "\n",
    "・ダミー化 → 効果なし\n",
    "・ターゲットエンコーディング → 質的変数が多い場合に有効\n",
    "　リーク情報を含めると精度が向上する\n",
    "・木の種類→種類からより分析に有効な値を抽出\n",
    " \n",
    "・LazyPredict → F1の高いモデルが有効\n",
    "\n",
    "・木ダメージ=特徴量を抽出すればより精度を高めることができる\n",
    "・時系列データ＝木ダメージと関係あるかも？\n",
    "・\"Problems\" - どう処理するか？→問題が多いほどダメージがある\n",
    "\n",
    "0：良い、1：普通、2：悪い"
   ]
  },
  {
   "cell_type": "code",
   "execution_count": null,
   "metadata": {},
   "outputs": [],
   "source": [
    "GaussianNB\n",
    "\n",
    "PassiveAggressiveClassifier\n",
    "\n",
    "LinearDiscriminantAnalysis\n",
    "\n",
    "ExtraTreesClassifier\n",
    "\n",
    "BaggingClassifier\n",
    "\n",
    "ExtraTreeClassifier"
   ]
  },
  {
   "cell_type": "code",
   "execution_count": null,
   "metadata": {},
   "outputs": [],
   "source": []
  }
 ],
 "metadata": {
  "language_info": {
   "name": "python"
  }
 },
 "nbformat": 4,
 "nbformat_minor": 2
}
