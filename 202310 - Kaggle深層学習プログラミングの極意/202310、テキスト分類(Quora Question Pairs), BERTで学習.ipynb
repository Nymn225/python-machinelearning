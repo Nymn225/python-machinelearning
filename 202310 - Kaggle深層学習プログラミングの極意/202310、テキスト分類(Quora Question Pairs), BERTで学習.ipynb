{
 "cells": [
  {
   "cell_type": "markdown",
   "metadata": {},
   "source": [
    "# Kaggle深層学習\n",
    "\n",
    "「極意」で画像分類、画像検索、テキスト分類の学習用コンペに挑戦する。\n",
    "コンペ挑戦もかねてPyTorchの学習にもなる。"
   ]
  },
  {
   "cell_type": "code",
   "execution_count": 22,
   "metadata": {},
   "outputs": [],
   "source": [
    "# ライブラリのインポート\n",
    "import torch\n",
    "import torch.nn as nn\n",
    "from torchvision import datasets, models, transforms\n",
    "\n",
    "from sklearn.datasets import load_digits"
   ]
  },
  {
   "cell_type": "markdown",
   "metadata": {},
   "source": []
  },
  {
   "cell_type": "markdown",
   "metadata": {},
   "source": [
    "# モデルの使い方\n",
    "- 勾配ブースティング木(XGBoost)\n",
    "テーブルデータの機械学習に用いる。「kaggleで勝つ」3章がおすすめ。\n",
    "\n",
    "- 畳み込みニューラルネット(CNN)\n",
    "画像分類に用いる。ResNet, EfficientNet, ConvNext等の既存のモデルを使うのが有効。\n",
    "「極意」3・4章がおすすめ。\n",
    "\n",
    "- 再帰的ニューラルネット(RNN)\n",
    "時系列データ・テキストに用いる。LSTMが使われる。\n",
    "「極意」5章がおすすめ。\n",
    "\n",
    "- トランスフォーマー(Transformer)\n",
    "任意長の入力を任意量の出力に変換するニューラルネット。自然言語処理ができるBERT、ChatGPTなどに使われている。\n",
    "画像にもTransformerが応用され始めていて、Vision Transformer・Detection Transformerとして物体検出に使える。"
   ]
  },
  {
   "cell_type": "markdown",
   "metadata": {},
   "source": [
    "# 過学習の抑制法\n",
    "- 重み減衰\n",
    "学習率を一定の割合で減衰させていく。最適化関数のAdamとは相性が悪い\n",
    "- バッチ正則化\n",
    "誤差逆伝播の値をバッチ内の平均と分散を使って正規化する。\n",
    "- ドロップアウト\n",
    "ニューラルネットの一部をランダムに無効化する。バッチ正則化とは相性が良くない\n",
    "- ラベルスムージング\n",
    "正解ラベルのスコアに微弱な足し引きをする。正解率が向上した例を探す。"
   ]
  },
  {
   "cell_type": "code",
   "execution_count": null,
   "metadata": {},
   "outputs": [],
   "source": [
    "# ライブラリのインポート\n",
    "import torch\n",
    "import torch.nn as nn\n",
    "from torchvision import datasets, models, transforms\n",
    "from sklearn.datasets import load_digits\n",
    "\n",
    "# resnet50を使う\n",
    "model = models.resnet50()\n",
    "\n",
    "#　出力層を2クラス分類用にする\n",
    "model.fc = torch.nn.Linear(model.fc.in_features, 2)\n",
    "\n",
    "# ImageNetを学習したresnet50のウェイトを読み込む\n",
    "model = models.resnet50(pretrained = True)\n",
    "\n",
    "# 損失関数 - クロスエントロピーを使う。今回は2値分類\n",
    "loss_fun = torch.nn.CrossEntropyLoss()"
   ]
  },
  {
   "cell_type": "code",
   "execution_count": null,
   "metadata": {},
   "outputs": [],
   "source": []
  },
  {
   "cell_type": "code",
   "execution_count": null,
   "metadata": {},
   "outputs": [],
   "source": []
  },
  {
   "cell_type": "code",
   "execution_count": null,
   "metadata": {},
   "outputs": [],
   "source": []
  },
  {
   "cell_type": "code",
   "execution_count": null,
   "metadata": {},
   "outputs": [],
   "source": []
  },
  {
   "cell_type": "code",
   "execution_count": null,
   "metadata": {},
   "outputs": [],
   "source": []
  },
  {
   "cell_type": "code",
   "execution_count": null,
   "metadata": {},
   "outputs": [],
   "source": []
  },
  {
   "cell_type": "code",
   "execution_count": null,
   "metadata": {},
   "outputs": [],
   "source": []
  },
  {
   "cell_type": "code",
   "execution_count": null,
   "metadata": {},
   "outputs": [],
   "source": []
  },
  {
   "cell_type": "code",
   "execution_count": null,
   "metadata": {},
   "outputs": [],
   "source": []
  }
 ],
 "metadata": {
  "kernelspec": {
   "display_name": "base",
   "language": "python",
   "name": "python3"
  },
  "language_info": {
   "codemirror_mode": {
    "name": "ipython",
    "version": 3
   },
   "file_extension": ".py",
   "mimetype": "text/x-python",
   "name": "python",
   "nbconvert_exporter": "python",
   "pygments_lexer": "ipython3",
   "version": "3.11.3"
  }
 },
 "nbformat": 4,
 "nbformat_minor": 2
}
